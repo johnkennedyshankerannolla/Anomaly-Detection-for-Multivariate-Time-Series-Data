{
  "cells": [
    {
      "cell_type": "code",
      "execution_count": null,
      "metadata": {
        "colab": {
          "base_uri": "https://localhost:8080/"
        },
        "id": "ikODyjwAq0Kl",
        "outputId": "285c22f0-eafa-4b02-83c5-017b741f4137"
      },
      "outputs": [
        {
          "output_type": "stream",
          "name": "stdout",
          "text": [
            "Mounted at /content/drive\n"
          ]
        }
      ],
      "source": [
        "from google.colab import drive\n",
        "drive.mount('/content/drive')"
      ]
    },
    {
      "cell_type": "code",
      "execution_count": null,
      "metadata": {
        "id": "mCuuZDhIrjaG"
      },
      "outputs": [],
      "source": []
    },
    {
      "cell_type": "code",
      "execution_count": null,
      "metadata": {
        "colab": {
          "base_uri": "https://localhost:8080/"
        },
        "id": "-TZ6Lbl1RqhJ",
        "outputId": "2897a762-4a85-4964-c0ac-4f97238a8fe2"
      },
      "outputs": [
        {
          "output_type": "stream",
          "name": "stdout",
          "text": [
            "Requirement already satisfied: imbalanced-learn in /usr/local/lib/python3.10/dist-packages (0.12.4)\n",
            "Requirement already satisfied: numpy>=1.17.3 in /usr/local/lib/python3.10/dist-packages (from imbalanced-learn) (1.26.4)\n",
            "Requirement already satisfied: scipy>=1.5.0 in /usr/local/lib/python3.10/dist-packages (from imbalanced-learn) (1.13.1)\n",
            "Requirement already satisfied: scikit-learn>=1.0.2 in /usr/local/lib/python3.10/dist-packages (from imbalanced-learn) (1.5.2)\n",
            "Requirement already satisfied: joblib>=1.1.1 in /usr/local/lib/python3.10/dist-packages (from imbalanced-learn) (1.4.2)\n",
            "Requirement already satisfied: threadpoolctl>=2.0.0 in /usr/local/lib/python3.10/dist-packages (from imbalanced-learn) (3.5.0)\n"
          ]
        }
      ],
      "source": [
        "# Import libraries to verify installation\n",
        "import seaborn as sns\n",
        "!pip install imbalanced-learn\n",
        "import os\n",
        "import time\n",
        "import numpy as np\n",
        "import pandas as pd\n",
        "import matplotlib.pyplot as plt\n",
        "import random\n",
        "from sklearn.model_selection import train_test_split\n",
        "from sklearn.metrics import classification_report, confusion_matrix\n",
        "from sklearn.metrics import accuracy_score, precision_score, recall_score, f1_score, roc_auc_score\n",
        "from datetime import datetime\n",
        "from matplotlib.colors import Normalize\n",
        "import tqdm\n",
        "import PIL\n",
        "import pickle\n",
        "import sys\n",
        "import json\n",
        "from scipy.stats import skew\n",
        "from imblearn.over_sampling import SMOTE\n",
        "from sklearn.preprocessing import StandardScaler\n",
        "from sklearn.model_selection import TimeSeriesSplit\n",
        "from scipy.spatial.distance import euclidean\n",
        "from sklearn.metrics import roc_curve, auc\n",
        "import tensorflow as tf\n",
        "from tensorflow.keras.models import Sequential\n",
        "from tensorflow.keras.layers import SimpleRNN, Dense\n",
        "from tensorflow.keras.layers import LSTM\n",
        "\n",
        "import warnings\n",
        "\n",
        "warnings.filterwarnings(\"ignore\")"
      ]
    },
    {
      "cell_type": "code",
      "execution_count": null,
      "metadata": {
        "id": "EAPQgJN2rEN-"
      },
      "outputs": [],
      "source": [
        "path = \"drive/MyDrive/\""
      ]
    },
    {
      "cell_type": "code",
      "execution_count": null,
      "metadata": {
        "id": "FDvlglxprG3f"
      },
      "outputs": [],
      "source": [
        "df = pd.read_csv(f'{path}data.csv')"
      ]
    },
    {
      "cell_type": "code",
      "execution_count": null,
      "metadata": {
        "colab": {
          "base_uri": "https://localhost:8080/",
          "height": 224
        },
        "id": "SbcqzNFcrG0o",
        "outputId": "0c62696e-7bc0-454e-a3aa-08914749b5ed"
      },
      "outputs": [
        {
          "output_type": "stream",
          "name": "stdout",
          "text": [
            "(5000000, 20)\n"
          ]
        },
        {
          "output_type": "execute_result",
          "data": {
            "text/plain": [
              "             timestamp  aimp  amud       arnd    asin1   asin2  adbr  adfl  \\\n",
              "0  2023-01-01 00:00:00   0.0   1.0  20.000000  0.00000  0.0000   0.0   0.0   \n",
              "1  2023-01-01 00:00:01   0.0   1.0  20.080031  0.00002  0.0002   0.0   0.0   \n",
              "2  2023-01-01 00:00:02   0.0   1.0  20.276562  0.00004  0.0004   0.0   0.0   \n",
              "3  2023-01-01 00:00:03   0.0   1.0  20.730938  0.00006  0.0006   0.0   0.0   \n",
              "4  2023-01-01 00:00:04   0.0   1.0  21.118101  0.00008  0.0008   0.0   0.0   \n",
              "\n",
              "   bed1  bed2  bfo1          bfo2      bso1  bso2  bso3  ced1      cfo1  \\\n",
              "0   0.0   0.0   0.0  0.000000e+00  0.000000   0.0   0.0   0.0  0.000000   \n",
              "1   0.0   0.0   0.0  4.993912e-07  0.000789   0.0   0.0   0.0  0.000021   \n",
              "2   0.0   0.0   0.0  1.496957e-06  0.003115   0.0   0.0   0.0  0.000104   \n",
              "3   0.0   0.0   0.0  2.991484e-06  0.006914   0.0   0.0   0.0  0.000285   \n",
              "4   0.0   0.0   0.0  4.981761e-06  0.012123   0.0   0.0   0.0  0.000601   \n",
              "\n",
              "       cso1    y  category  \n",
              "0  0.000000  0.0       0.0  \n",
              "1  0.001229  0.0       0.0  \n",
              "2  0.004833  0.0       0.0  \n",
              "3  0.010688  0.0       0.0  \n",
              "4  0.018669  0.0       0.0  "
            ],
            "text/html": [
              "\n",
              "  <div id=\"df-ef8bb6f6-d0a9-478f-abf5-9be0c4041c39\" class=\"colab-df-container\">\n",
              "    <div>\n",
              "<style scoped>\n",
              "    .dataframe tbody tr th:only-of-type {\n",
              "        vertical-align: middle;\n",
              "    }\n",
              "\n",
              "    .dataframe tbody tr th {\n",
              "        vertical-align: top;\n",
              "    }\n",
              "\n",
              "    .dataframe thead th {\n",
              "        text-align: right;\n",
              "    }\n",
              "</style>\n",
              "<table border=\"1\" class=\"dataframe\">\n",
              "  <thead>\n",
              "    <tr style=\"text-align: right;\">\n",
              "      <th></th>\n",
              "      <th>timestamp</th>\n",
              "      <th>aimp</th>\n",
              "      <th>amud</th>\n",
              "      <th>arnd</th>\n",
              "      <th>asin1</th>\n",
              "      <th>asin2</th>\n",
              "      <th>adbr</th>\n",
              "      <th>adfl</th>\n",
              "      <th>bed1</th>\n",
              "      <th>bed2</th>\n",
              "      <th>bfo1</th>\n",
              "      <th>bfo2</th>\n",
              "      <th>bso1</th>\n",
              "      <th>bso2</th>\n",
              "      <th>bso3</th>\n",
              "      <th>ced1</th>\n",
              "      <th>cfo1</th>\n",
              "      <th>cso1</th>\n",
              "      <th>y</th>\n",
              "      <th>category</th>\n",
              "    </tr>\n",
              "  </thead>\n",
              "  <tbody>\n",
              "    <tr>\n",
              "      <th>0</th>\n",
              "      <td>2023-01-01 00:00:00</td>\n",
              "      <td>0.0</td>\n",
              "      <td>1.0</td>\n",
              "      <td>20.000000</td>\n",
              "      <td>0.00000</td>\n",
              "      <td>0.0000</td>\n",
              "      <td>0.0</td>\n",
              "      <td>0.0</td>\n",
              "      <td>0.0</td>\n",
              "      <td>0.0</td>\n",
              "      <td>0.0</td>\n",
              "      <td>0.000000e+00</td>\n",
              "      <td>0.000000</td>\n",
              "      <td>0.0</td>\n",
              "      <td>0.0</td>\n",
              "      <td>0.0</td>\n",
              "      <td>0.000000</td>\n",
              "      <td>0.000000</td>\n",
              "      <td>0.0</td>\n",
              "      <td>0.0</td>\n",
              "    </tr>\n",
              "    <tr>\n",
              "      <th>1</th>\n",
              "      <td>2023-01-01 00:00:01</td>\n",
              "      <td>0.0</td>\n",
              "      <td>1.0</td>\n",
              "      <td>20.080031</td>\n",
              "      <td>0.00002</td>\n",
              "      <td>0.0002</td>\n",
              "      <td>0.0</td>\n",
              "      <td>0.0</td>\n",
              "      <td>0.0</td>\n",
              "      <td>0.0</td>\n",
              "      <td>0.0</td>\n",
              "      <td>4.993912e-07</td>\n",
              "      <td>0.000789</td>\n",
              "      <td>0.0</td>\n",
              "      <td>0.0</td>\n",
              "      <td>0.0</td>\n",
              "      <td>0.000021</td>\n",
              "      <td>0.001229</td>\n",
              "      <td>0.0</td>\n",
              "      <td>0.0</td>\n",
              "    </tr>\n",
              "    <tr>\n",
              "      <th>2</th>\n",
              "      <td>2023-01-01 00:00:02</td>\n",
              "      <td>0.0</td>\n",
              "      <td>1.0</td>\n",
              "      <td>20.276562</td>\n",
              "      <td>0.00004</td>\n",
              "      <td>0.0004</td>\n",
              "      <td>0.0</td>\n",
              "      <td>0.0</td>\n",
              "      <td>0.0</td>\n",
              "      <td>0.0</td>\n",
              "      <td>0.0</td>\n",
              "      <td>1.496957e-06</td>\n",
              "      <td>0.003115</td>\n",
              "      <td>0.0</td>\n",
              "      <td>0.0</td>\n",
              "      <td>0.0</td>\n",
              "      <td>0.000104</td>\n",
              "      <td>0.004833</td>\n",
              "      <td>0.0</td>\n",
              "      <td>0.0</td>\n",
              "    </tr>\n",
              "    <tr>\n",
              "      <th>3</th>\n",
              "      <td>2023-01-01 00:00:03</td>\n",
              "      <td>0.0</td>\n",
              "      <td>1.0</td>\n",
              "      <td>20.730938</td>\n",
              "      <td>0.00006</td>\n",
              "      <td>0.0006</td>\n",
              "      <td>0.0</td>\n",
              "      <td>0.0</td>\n",
              "      <td>0.0</td>\n",
              "      <td>0.0</td>\n",
              "      <td>0.0</td>\n",
              "      <td>2.991484e-06</td>\n",
              "      <td>0.006914</td>\n",
              "      <td>0.0</td>\n",
              "      <td>0.0</td>\n",
              "      <td>0.0</td>\n",
              "      <td>0.000285</td>\n",
              "      <td>0.010688</td>\n",
              "      <td>0.0</td>\n",
              "      <td>0.0</td>\n",
              "    </tr>\n",
              "    <tr>\n",
              "      <th>4</th>\n",
              "      <td>2023-01-01 00:00:04</td>\n",
              "      <td>0.0</td>\n",
              "      <td>1.0</td>\n",
              "      <td>21.118101</td>\n",
              "      <td>0.00008</td>\n",
              "      <td>0.0008</td>\n",
              "      <td>0.0</td>\n",
              "      <td>0.0</td>\n",
              "      <td>0.0</td>\n",
              "      <td>0.0</td>\n",
              "      <td>0.0</td>\n",
              "      <td>4.981761e-06</td>\n",
              "      <td>0.012123</td>\n",
              "      <td>0.0</td>\n",
              "      <td>0.0</td>\n",
              "      <td>0.0</td>\n",
              "      <td>0.000601</td>\n",
              "      <td>0.018669</td>\n",
              "      <td>0.0</td>\n",
              "      <td>0.0</td>\n",
              "    </tr>\n",
              "  </tbody>\n",
              "</table>\n",
              "</div>\n",
              "    <div class=\"colab-df-buttons\">\n",
              "\n",
              "  <div class=\"colab-df-container\">\n",
              "    <button class=\"colab-df-convert\" onclick=\"convertToInteractive('df-ef8bb6f6-d0a9-478f-abf5-9be0c4041c39')\"\n",
              "            title=\"Convert this dataframe to an interactive table.\"\n",
              "            style=\"display:none;\">\n",
              "\n",
              "  <svg xmlns=\"http://www.w3.org/2000/svg\" height=\"24px\" viewBox=\"0 -960 960 960\">\n",
              "    <path d=\"M120-120v-720h720v720H120Zm60-500h600v-160H180v160Zm220 220h160v-160H400v160Zm0 220h160v-160H400v160ZM180-400h160v-160H180v160Zm440 0h160v-160H620v160ZM180-180h160v-160H180v160Zm440 0h160v-160H620v160Z\"/>\n",
              "  </svg>\n",
              "    </button>\n",
              "\n",
              "  <style>\n",
              "    .colab-df-container {\n",
              "      display:flex;\n",
              "      gap: 12px;\n",
              "    }\n",
              "\n",
              "    .colab-df-convert {\n",
              "      background-color: #E8F0FE;\n",
              "      border: none;\n",
              "      border-radius: 50%;\n",
              "      cursor: pointer;\n",
              "      display: none;\n",
              "      fill: #1967D2;\n",
              "      height: 32px;\n",
              "      padding: 0 0 0 0;\n",
              "      width: 32px;\n",
              "    }\n",
              "\n",
              "    .colab-df-convert:hover {\n",
              "      background-color: #E2EBFA;\n",
              "      box-shadow: 0px 1px 2px rgba(60, 64, 67, 0.3), 0px 1px 3px 1px rgba(60, 64, 67, 0.15);\n",
              "      fill: #174EA6;\n",
              "    }\n",
              "\n",
              "    .colab-df-buttons div {\n",
              "      margin-bottom: 4px;\n",
              "    }\n",
              "\n",
              "    [theme=dark] .colab-df-convert {\n",
              "      background-color: #3B4455;\n",
              "      fill: #D2E3FC;\n",
              "    }\n",
              "\n",
              "    [theme=dark] .colab-df-convert:hover {\n",
              "      background-color: #434B5C;\n",
              "      box-shadow: 0px 1px 3px 1px rgba(0, 0, 0, 0.15);\n",
              "      filter: drop-shadow(0px 1px 2px rgba(0, 0, 0, 0.3));\n",
              "      fill: #FFFFFF;\n",
              "    }\n",
              "  </style>\n",
              "\n",
              "    <script>\n",
              "      const buttonEl =\n",
              "        document.querySelector('#df-ef8bb6f6-d0a9-478f-abf5-9be0c4041c39 button.colab-df-convert');\n",
              "      buttonEl.style.display =\n",
              "        google.colab.kernel.accessAllowed ? 'block' : 'none';\n",
              "\n",
              "      async function convertToInteractive(key) {\n",
              "        const element = document.querySelector('#df-ef8bb6f6-d0a9-478f-abf5-9be0c4041c39');\n",
              "        const dataTable =\n",
              "          await google.colab.kernel.invokeFunction('convertToInteractive',\n",
              "                                                    [key], {});\n",
              "        if (!dataTable) return;\n",
              "\n",
              "        const docLinkHtml = 'Like what you see? Visit the ' +\n",
              "          '<a target=\"_blank\" href=https://colab.research.google.com/notebooks/data_table.ipynb>data table notebook</a>'\n",
              "          + ' to learn more about interactive tables.';\n",
              "        element.innerHTML = '';\n",
              "        dataTable['output_type'] = 'display_data';\n",
              "        await google.colab.output.renderOutput(dataTable, element);\n",
              "        const docLink = document.createElement('div');\n",
              "        docLink.innerHTML = docLinkHtml;\n",
              "        element.appendChild(docLink);\n",
              "      }\n",
              "    </script>\n",
              "  </div>\n",
              "\n",
              "\n",
              "<div id=\"df-5032589d-d84c-46ca-9f32-35481d79312f\">\n",
              "  <button class=\"colab-df-quickchart\" onclick=\"quickchart('df-5032589d-d84c-46ca-9f32-35481d79312f')\"\n",
              "            title=\"Suggest charts\"\n",
              "            style=\"display:none;\">\n",
              "\n",
              "<svg xmlns=\"http://www.w3.org/2000/svg\" height=\"24px\"viewBox=\"0 0 24 24\"\n",
              "     width=\"24px\">\n",
              "    <g>\n",
              "        <path d=\"M19 3H5c-1.1 0-2 .9-2 2v14c0 1.1.9 2 2 2h14c1.1 0 2-.9 2-2V5c0-1.1-.9-2-2-2zM9 17H7v-7h2v7zm4 0h-2V7h2v10zm4 0h-2v-4h2v4z\"/>\n",
              "    </g>\n",
              "</svg>\n",
              "  </button>\n",
              "\n",
              "<style>\n",
              "  .colab-df-quickchart {\n",
              "      --bg-color: #E8F0FE;\n",
              "      --fill-color: #1967D2;\n",
              "      --hover-bg-color: #E2EBFA;\n",
              "      --hover-fill-color: #174EA6;\n",
              "      --disabled-fill-color: #AAA;\n",
              "      --disabled-bg-color: #DDD;\n",
              "  }\n",
              "\n",
              "  [theme=dark] .colab-df-quickchart {\n",
              "      --bg-color: #3B4455;\n",
              "      --fill-color: #D2E3FC;\n",
              "      --hover-bg-color: #434B5C;\n",
              "      --hover-fill-color: #FFFFFF;\n",
              "      --disabled-bg-color: #3B4455;\n",
              "      --disabled-fill-color: #666;\n",
              "  }\n",
              "\n",
              "  .colab-df-quickchart {\n",
              "    background-color: var(--bg-color);\n",
              "    border: none;\n",
              "    border-radius: 50%;\n",
              "    cursor: pointer;\n",
              "    display: none;\n",
              "    fill: var(--fill-color);\n",
              "    height: 32px;\n",
              "    padding: 0;\n",
              "    width: 32px;\n",
              "  }\n",
              "\n",
              "  .colab-df-quickchart:hover {\n",
              "    background-color: var(--hover-bg-color);\n",
              "    box-shadow: 0 1px 2px rgba(60, 64, 67, 0.3), 0 1px 3px 1px rgba(60, 64, 67, 0.15);\n",
              "    fill: var(--button-hover-fill-color);\n",
              "  }\n",
              "\n",
              "  .colab-df-quickchart-complete:disabled,\n",
              "  .colab-df-quickchart-complete:disabled:hover {\n",
              "    background-color: var(--disabled-bg-color);\n",
              "    fill: var(--disabled-fill-color);\n",
              "    box-shadow: none;\n",
              "  }\n",
              "\n",
              "  .colab-df-spinner {\n",
              "    border: 2px solid var(--fill-color);\n",
              "    border-color: transparent;\n",
              "    border-bottom-color: var(--fill-color);\n",
              "    animation:\n",
              "      spin 1s steps(1) infinite;\n",
              "  }\n",
              "\n",
              "  @keyframes spin {\n",
              "    0% {\n",
              "      border-color: transparent;\n",
              "      border-bottom-color: var(--fill-color);\n",
              "      border-left-color: var(--fill-color);\n",
              "    }\n",
              "    20% {\n",
              "      border-color: transparent;\n",
              "      border-left-color: var(--fill-color);\n",
              "      border-top-color: var(--fill-color);\n",
              "    }\n",
              "    30% {\n",
              "      border-color: transparent;\n",
              "      border-left-color: var(--fill-color);\n",
              "      border-top-color: var(--fill-color);\n",
              "      border-right-color: var(--fill-color);\n",
              "    }\n",
              "    40% {\n",
              "      border-color: transparent;\n",
              "      border-right-color: var(--fill-color);\n",
              "      border-top-color: var(--fill-color);\n",
              "    }\n",
              "    60% {\n",
              "      border-color: transparent;\n",
              "      border-right-color: var(--fill-color);\n",
              "    }\n",
              "    80% {\n",
              "      border-color: transparent;\n",
              "      border-right-color: var(--fill-color);\n",
              "      border-bottom-color: var(--fill-color);\n",
              "    }\n",
              "    90% {\n",
              "      border-color: transparent;\n",
              "      border-bottom-color: var(--fill-color);\n",
              "    }\n",
              "  }\n",
              "</style>\n",
              "\n",
              "  <script>\n",
              "    async function quickchart(key) {\n",
              "      const quickchartButtonEl =\n",
              "        document.querySelector('#' + key + ' button');\n",
              "      quickchartButtonEl.disabled = true;  // To prevent multiple clicks.\n",
              "      quickchartButtonEl.classList.add('colab-df-spinner');\n",
              "      try {\n",
              "        const charts = await google.colab.kernel.invokeFunction(\n",
              "            'suggestCharts', [key], {});\n",
              "      } catch (error) {\n",
              "        console.error('Error during call to suggestCharts:', error);\n",
              "      }\n",
              "      quickchartButtonEl.classList.remove('colab-df-spinner');\n",
              "      quickchartButtonEl.classList.add('colab-df-quickchart-complete');\n",
              "    }\n",
              "    (() => {\n",
              "      let quickchartButtonEl =\n",
              "        document.querySelector('#df-5032589d-d84c-46ca-9f32-35481d79312f button');\n",
              "      quickchartButtonEl.style.display =\n",
              "        google.colab.kernel.accessAllowed ? 'block' : 'none';\n",
              "    })();\n",
              "  </script>\n",
              "</div>\n",
              "\n",
              "    </div>\n",
              "  </div>\n"
            ],
            "application/vnd.google.colaboratory.intrinsic+json": {
              "type": "dataframe",
              "variable_name": "df"
            }
          },
          "metadata": {},
          "execution_count": 5
        }
      ],
      "source": [
        "print(df.shape)\n",
        "df.head()"
      ]
    },
    {
      "cell_type": "code",
      "execution_count": null,
      "metadata": {
        "id": "3VLyBHeMrGxx"
      },
      "outputs": [],
      "source": [
        "df = df.drop('timestamp', axis = 1)"
      ]
    },
    {
      "cell_type": "code",
      "execution_count": null,
      "metadata": {
        "id": "dmbEnpfOrGu4"
      },
      "outputs": [],
      "source": [
        "# split the data into x and y dataframes\n",
        "\n",
        "X_df = df.drop('y', axis=1)\n",
        "X_df = X_df.drop('category', axis=1)\n",
        "y_df = df['y']"
      ]
    },
    {
      "cell_type": "code",
      "execution_count": null,
      "metadata": {
        "colab": {
          "base_uri": "https://localhost:8080/",
          "height": 224
        },
        "id": "ClOGonKzrGrx",
        "outputId": "40ed8009-756f-4b56-f168-6d4dfb041ec4"
      },
      "outputs": [
        {
          "output_type": "stream",
          "name": "stdout",
          "text": [
            "(5000000, 17)\n"
          ]
        },
        {
          "output_type": "execute_result",
          "data": {
            "text/plain": [
              "   aimp  amud       arnd    asin1   asin2  adbr  adfl  bed1  bed2  bfo1  \\\n",
              "0   0.0   1.0  20.000000  0.00000  0.0000   0.0   0.0   0.0   0.0   0.0   \n",
              "1   0.0   1.0  20.080031  0.00002  0.0002   0.0   0.0   0.0   0.0   0.0   \n",
              "2   0.0   1.0  20.276562  0.00004  0.0004   0.0   0.0   0.0   0.0   0.0   \n",
              "3   0.0   1.0  20.730938  0.00006  0.0006   0.0   0.0   0.0   0.0   0.0   \n",
              "4   0.0   1.0  21.118101  0.00008  0.0008   0.0   0.0   0.0   0.0   0.0   \n",
              "\n",
              "           bfo2      bso1  bso2  bso3  ced1      cfo1      cso1  \n",
              "0  0.000000e+00  0.000000   0.0   0.0   0.0  0.000000  0.000000  \n",
              "1  4.993912e-07  0.000789   0.0   0.0   0.0  0.000021  0.001229  \n",
              "2  1.496957e-06  0.003115   0.0   0.0   0.0  0.000104  0.004833  \n",
              "3  2.991484e-06  0.006914   0.0   0.0   0.0  0.000285  0.010688  \n",
              "4  4.981761e-06  0.012123   0.0   0.0   0.0  0.000601  0.018669  "
            ],
            "text/html": [
              "\n",
              "  <div id=\"df-ed5a5e80-ab36-43f4-bb39-bcafc2ee3e6a\" class=\"colab-df-container\">\n",
              "    <div>\n",
              "<style scoped>\n",
              "    .dataframe tbody tr th:only-of-type {\n",
              "        vertical-align: middle;\n",
              "    }\n",
              "\n",
              "    .dataframe tbody tr th {\n",
              "        vertical-align: top;\n",
              "    }\n",
              "\n",
              "    .dataframe thead th {\n",
              "        text-align: right;\n",
              "    }\n",
              "</style>\n",
              "<table border=\"1\" class=\"dataframe\">\n",
              "  <thead>\n",
              "    <tr style=\"text-align: right;\">\n",
              "      <th></th>\n",
              "      <th>aimp</th>\n",
              "      <th>amud</th>\n",
              "      <th>arnd</th>\n",
              "      <th>asin1</th>\n",
              "      <th>asin2</th>\n",
              "      <th>adbr</th>\n",
              "      <th>adfl</th>\n",
              "      <th>bed1</th>\n",
              "      <th>bed2</th>\n",
              "      <th>bfo1</th>\n",
              "      <th>bfo2</th>\n",
              "      <th>bso1</th>\n",
              "      <th>bso2</th>\n",
              "      <th>bso3</th>\n",
              "      <th>ced1</th>\n",
              "      <th>cfo1</th>\n",
              "      <th>cso1</th>\n",
              "    </tr>\n",
              "  </thead>\n",
              "  <tbody>\n",
              "    <tr>\n",
              "      <th>0</th>\n",
              "      <td>0.0</td>\n",
              "      <td>1.0</td>\n",
              "      <td>20.000000</td>\n",
              "      <td>0.00000</td>\n",
              "      <td>0.0000</td>\n",
              "      <td>0.0</td>\n",
              "      <td>0.0</td>\n",
              "      <td>0.0</td>\n",
              "      <td>0.0</td>\n",
              "      <td>0.0</td>\n",
              "      <td>0.000000e+00</td>\n",
              "      <td>0.000000</td>\n",
              "      <td>0.0</td>\n",
              "      <td>0.0</td>\n",
              "      <td>0.0</td>\n",
              "      <td>0.000000</td>\n",
              "      <td>0.000000</td>\n",
              "    </tr>\n",
              "    <tr>\n",
              "      <th>1</th>\n",
              "      <td>0.0</td>\n",
              "      <td>1.0</td>\n",
              "      <td>20.080031</td>\n",
              "      <td>0.00002</td>\n",
              "      <td>0.0002</td>\n",
              "      <td>0.0</td>\n",
              "      <td>0.0</td>\n",
              "      <td>0.0</td>\n",
              "      <td>0.0</td>\n",
              "      <td>0.0</td>\n",
              "      <td>4.993912e-07</td>\n",
              "      <td>0.000789</td>\n",
              "      <td>0.0</td>\n",
              "      <td>0.0</td>\n",
              "      <td>0.0</td>\n",
              "      <td>0.000021</td>\n",
              "      <td>0.001229</td>\n",
              "    </tr>\n",
              "    <tr>\n",
              "      <th>2</th>\n",
              "      <td>0.0</td>\n",
              "      <td>1.0</td>\n",
              "      <td>20.276562</td>\n",
              "      <td>0.00004</td>\n",
              "      <td>0.0004</td>\n",
              "      <td>0.0</td>\n",
              "      <td>0.0</td>\n",
              "      <td>0.0</td>\n",
              "      <td>0.0</td>\n",
              "      <td>0.0</td>\n",
              "      <td>1.496957e-06</td>\n",
              "      <td>0.003115</td>\n",
              "      <td>0.0</td>\n",
              "      <td>0.0</td>\n",
              "      <td>0.0</td>\n",
              "      <td>0.000104</td>\n",
              "      <td>0.004833</td>\n",
              "    </tr>\n",
              "    <tr>\n",
              "      <th>3</th>\n",
              "      <td>0.0</td>\n",
              "      <td>1.0</td>\n",
              "      <td>20.730938</td>\n",
              "      <td>0.00006</td>\n",
              "      <td>0.0006</td>\n",
              "      <td>0.0</td>\n",
              "      <td>0.0</td>\n",
              "      <td>0.0</td>\n",
              "      <td>0.0</td>\n",
              "      <td>0.0</td>\n",
              "      <td>2.991484e-06</td>\n",
              "      <td>0.006914</td>\n",
              "      <td>0.0</td>\n",
              "      <td>0.0</td>\n",
              "      <td>0.0</td>\n",
              "      <td>0.000285</td>\n",
              "      <td>0.010688</td>\n",
              "    </tr>\n",
              "    <tr>\n",
              "      <th>4</th>\n",
              "      <td>0.0</td>\n",
              "      <td>1.0</td>\n",
              "      <td>21.118101</td>\n",
              "      <td>0.00008</td>\n",
              "      <td>0.0008</td>\n",
              "      <td>0.0</td>\n",
              "      <td>0.0</td>\n",
              "      <td>0.0</td>\n",
              "      <td>0.0</td>\n",
              "      <td>0.0</td>\n",
              "      <td>4.981761e-06</td>\n",
              "      <td>0.012123</td>\n",
              "      <td>0.0</td>\n",
              "      <td>0.0</td>\n",
              "      <td>0.0</td>\n",
              "      <td>0.000601</td>\n",
              "      <td>0.018669</td>\n",
              "    </tr>\n",
              "  </tbody>\n",
              "</table>\n",
              "</div>\n",
              "    <div class=\"colab-df-buttons\">\n",
              "\n",
              "  <div class=\"colab-df-container\">\n",
              "    <button class=\"colab-df-convert\" onclick=\"convertToInteractive('df-ed5a5e80-ab36-43f4-bb39-bcafc2ee3e6a')\"\n",
              "            title=\"Convert this dataframe to an interactive table.\"\n",
              "            style=\"display:none;\">\n",
              "\n",
              "  <svg xmlns=\"http://www.w3.org/2000/svg\" height=\"24px\" viewBox=\"0 -960 960 960\">\n",
              "    <path d=\"M120-120v-720h720v720H120Zm60-500h600v-160H180v160Zm220 220h160v-160H400v160Zm0 220h160v-160H400v160ZM180-400h160v-160H180v160Zm440 0h160v-160H620v160ZM180-180h160v-160H180v160Zm440 0h160v-160H620v160Z\"/>\n",
              "  </svg>\n",
              "    </button>\n",
              "\n",
              "  <style>\n",
              "    .colab-df-container {\n",
              "      display:flex;\n",
              "      gap: 12px;\n",
              "    }\n",
              "\n",
              "    .colab-df-convert {\n",
              "      background-color: #E8F0FE;\n",
              "      border: none;\n",
              "      border-radius: 50%;\n",
              "      cursor: pointer;\n",
              "      display: none;\n",
              "      fill: #1967D2;\n",
              "      height: 32px;\n",
              "      padding: 0 0 0 0;\n",
              "      width: 32px;\n",
              "    }\n",
              "\n",
              "    .colab-df-convert:hover {\n",
              "      background-color: #E2EBFA;\n",
              "      box-shadow: 0px 1px 2px rgba(60, 64, 67, 0.3), 0px 1px 3px 1px rgba(60, 64, 67, 0.15);\n",
              "      fill: #174EA6;\n",
              "    }\n",
              "\n",
              "    .colab-df-buttons div {\n",
              "      margin-bottom: 4px;\n",
              "    }\n",
              "\n",
              "    [theme=dark] .colab-df-convert {\n",
              "      background-color: #3B4455;\n",
              "      fill: #D2E3FC;\n",
              "    }\n",
              "\n",
              "    [theme=dark] .colab-df-convert:hover {\n",
              "      background-color: #434B5C;\n",
              "      box-shadow: 0px 1px 3px 1px rgba(0, 0, 0, 0.15);\n",
              "      filter: drop-shadow(0px 1px 2px rgba(0, 0, 0, 0.3));\n",
              "      fill: #FFFFFF;\n",
              "    }\n",
              "  </style>\n",
              "\n",
              "    <script>\n",
              "      const buttonEl =\n",
              "        document.querySelector('#df-ed5a5e80-ab36-43f4-bb39-bcafc2ee3e6a button.colab-df-convert');\n",
              "      buttonEl.style.display =\n",
              "        google.colab.kernel.accessAllowed ? 'block' : 'none';\n",
              "\n",
              "      async function convertToInteractive(key) {\n",
              "        const element = document.querySelector('#df-ed5a5e80-ab36-43f4-bb39-bcafc2ee3e6a');\n",
              "        const dataTable =\n",
              "          await google.colab.kernel.invokeFunction('convertToInteractive',\n",
              "                                                    [key], {});\n",
              "        if (!dataTable) return;\n",
              "\n",
              "        const docLinkHtml = 'Like what you see? Visit the ' +\n",
              "          '<a target=\"_blank\" href=https://colab.research.google.com/notebooks/data_table.ipynb>data table notebook</a>'\n",
              "          + ' to learn more about interactive tables.';\n",
              "        element.innerHTML = '';\n",
              "        dataTable['output_type'] = 'display_data';\n",
              "        await google.colab.output.renderOutput(dataTable, element);\n",
              "        const docLink = document.createElement('div');\n",
              "        docLink.innerHTML = docLinkHtml;\n",
              "        element.appendChild(docLink);\n",
              "      }\n",
              "    </script>\n",
              "  </div>\n",
              "\n",
              "\n",
              "<div id=\"df-962c0f81-051f-46c8-8042-35c573d44ec7\">\n",
              "  <button class=\"colab-df-quickchart\" onclick=\"quickchart('df-962c0f81-051f-46c8-8042-35c573d44ec7')\"\n",
              "            title=\"Suggest charts\"\n",
              "            style=\"display:none;\">\n",
              "\n",
              "<svg xmlns=\"http://www.w3.org/2000/svg\" height=\"24px\"viewBox=\"0 0 24 24\"\n",
              "     width=\"24px\">\n",
              "    <g>\n",
              "        <path d=\"M19 3H5c-1.1 0-2 .9-2 2v14c0 1.1.9 2 2 2h14c1.1 0 2-.9 2-2V5c0-1.1-.9-2-2-2zM9 17H7v-7h2v7zm4 0h-2V7h2v10zm4 0h-2v-4h2v4z\"/>\n",
              "    </g>\n",
              "</svg>\n",
              "  </button>\n",
              "\n",
              "<style>\n",
              "  .colab-df-quickchart {\n",
              "      --bg-color: #E8F0FE;\n",
              "      --fill-color: #1967D2;\n",
              "      --hover-bg-color: #E2EBFA;\n",
              "      --hover-fill-color: #174EA6;\n",
              "      --disabled-fill-color: #AAA;\n",
              "      --disabled-bg-color: #DDD;\n",
              "  }\n",
              "\n",
              "  [theme=dark] .colab-df-quickchart {\n",
              "      --bg-color: #3B4455;\n",
              "      --fill-color: #D2E3FC;\n",
              "      --hover-bg-color: #434B5C;\n",
              "      --hover-fill-color: #FFFFFF;\n",
              "      --disabled-bg-color: #3B4455;\n",
              "      --disabled-fill-color: #666;\n",
              "  }\n",
              "\n",
              "  .colab-df-quickchart {\n",
              "    background-color: var(--bg-color);\n",
              "    border: none;\n",
              "    border-radius: 50%;\n",
              "    cursor: pointer;\n",
              "    display: none;\n",
              "    fill: var(--fill-color);\n",
              "    height: 32px;\n",
              "    padding: 0;\n",
              "    width: 32px;\n",
              "  }\n",
              "\n",
              "  .colab-df-quickchart:hover {\n",
              "    background-color: var(--hover-bg-color);\n",
              "    box-shadow: 0 1px 2px rgba(60, 64, 67, 0.3), 0 1px 3px 1px rgba(60, 64, 67, 0.15);\n",
              "    fill: var(--button-hover-fill-color);\n",
              "  }\n",
              "\n",
              "  .colab-df-quickchart-complete:disabled,\n",
              "  .colab-df-quickchart-complete:disabled:hover {\n",
              "    background-color: var(--disabled-bg-color);\n",
              "    fill: var(--disabled-fill-color);\n",
              "    box-shadow: none;\n",
              "  }\n",
              "\n",
              "  .colab-df-spinner {\n",
              "    border: 2px solid var(--fill-color);\n",
              "    border-color: transparent;\n",
              "    border-bottom-color: var(--fill-color);\n",
              "    animation:\n",
              "      spin 1s steps(1) infinite;\n",
              "  }\n",
              "\n",
              "  @keyframes spin {\n",
              "    0% {\n",
              "      border-color: transparent;\n",
              "      border-bottom-color: var(--fill-color);\n",
              "      border-left-color: var(--fill-color);\n",
              "    }\n",
              "    20% {\n",
              "      border-color: transparent;\n",
              "      border-left-color: var(--fill-color);\n",
              "      border-top-color: var(--fill-color);\n",
              "    }\n",
              "    30% {\n",
              "      border-color: transparent;\n",
              "      border-left-color: var(--fill-color);\n",
              "      border-top-color: var(--fill-color);\n",
              "      border-right-color: var(--fill-color);\n",
              "    }\n",
              "    40% {\n",
              "      border-color: transparent;\n",
              "      border-right-color: var(--fill-color);\n",
              "      border-top-color: var(--fill-color);\n",
              "    }\n",
              "    60% {\n",
              "      border-color: transparent;\n",
              "      border-right-color: var(--fill-color);\n",
              "    }\n",
              "    80% {\n",
              "      border-color: transparent;\n",
              "      border-right-color: var(--fill-color);\n",
              "      border-bottom-color: var(--fill-color);\n",
              "    }\n",
              "    90% {\n",
              "      border-color: transparent;\n",
              "      border-bottom-color: var(--fill-color);\n",
              "    }\n",
              "  }\n",
              "</style>\n",
              "\n",
              "  <script>\n",
              "    async function quickchart(key) {\n",
              "      const quickchartButtonEl =\n",
              "        document.querySelector('#' + key + ' button');\n",
              "      quickchartButtonEl.disabled = true;  // To prevent multiple clicks.\n",
              "      quickchartButtonEl.classList.add('colab-df-spinner');\n",
              "      try {\n",
              "        const charts = await google.colab.kernel.invokeFunction(\n",
              "            'suggestCharts', [key], {});\n",
              "      } catch (error) {\n",
              "        console.error('Error during call to suggestCharts:', error);\n",
              "      }\n",
              "      quickchartButtonEl.classList.remove('colab-df-spinner');\n",
              "      quickchartButtonEl.classList.add('colab-df-quickchart-complete');\n",
              "    }\n",
              "    (() => {\n",
              "      let quickchartButtonEl =\n",
              "        document.querySelector('#df-962c0f81-051f-46c8-8042-35c573d44ec7 button');\n",
              "      quickchartButtonEl.style.display =\n",
              "        google.colab.kernel.accessAllowed ? 'block' : 'none';\n",
              "    })();\n",
              "  </script>\n",
              "</div>\n",
              "\n",
              "    </div>\n",
              "  </div>\n"
            ],
            "application/vnd.google.colaboratory.intrinsic+json": {
              "type": "dataframe",
              "variable_name": "X_df"
            }
          },
          "metadata": {},
          "execution_count": 8
        }
      ],
      "source": [
        "print(X_df.shape)\n",
        "X_df.head()"
      ]
    },
    {
      "cell_type": "code",
      "execution_count": null,
      "metadata": {
        "colab": {
          "base_uri": "https://localhost:8080/",
          "height": 259
        },
        "id": "xUHXdDlRrGo5",
        "outputId": "8863ded7-c222-46dc-a50a-66784d395814"
      },
      "outputs": [
        {
          "output_type": "stream",
          "name": "stdout",
          "text": [
            "(5000000,)\n"
          ]
        },
        {
          "output_type": "execute_result",
          "data": {
            "text/plain": [
              "0    0.0\n",
              "1    0.0\n",
              "2    0.0\n",
              "3    0.0\n",
              "4    0.0\n",
              "Name: y, dtype: float64"
            ],
            "text/html": [
              "<div>\n",
              "<style scoped>\n",
              "    .dataframe tbody tr th:only-of-type {\n",
              "        vertical-align: middle;\n",
              "    }\n",
              "\n",
              "    .dataframe tbody tr th {\n",
              "        vertical-align: top;\n",
              "    }\n",
              "\n",
              "    .dataframe thead th {\n",
              "        text-align: right;\n",
              "    }\n",
              "</style>\n",
              "<table border=\"1\" class=\"dataframe\">\n",
              "  <thead>\n",
              "    <tr style=\"text-align: right;\">\n",
              "      <th></th>\n",
              "      <th>y</th>\n",
              "    </tr>\n",
              "  </thead>\n",
              "  <tbody>\n",
              "    <tr>\n",
              "      <th>0</th>\n",
              "      <td>0.0</td>\n",
              "    </tr>\n",
              "    <tr>\n",
              "      <th>1</th>\n",
              "      <td>0.0</td>\n",
              "    </tr>\n",
              "    <tr>\n",
              "      <th>2</th>\n",
              "      <td>0.0</td>\n",
              "    </tr>\n",
              "    <tr>\n",
              "      <th>3</th>\n",
              "      <td>0.0</td>\n",
              "    </tr>\n",
              "    <tr>\n",
              "      <th>4</th>\n",
              "      <td>0.0</td>\n",
              "    </tr>\n",
              "  </tbody>\n",
              "</table>\n",
              "</div><br><label><b>dtype:</b> float64</label>"
            ]
          },
          "metadata": {},
          "execution_count": 9
        }
      ],
      "source": [
        "print(y_df.shape)\n",
        "y_df.head()"
      ]
    },
    {
      "cell_type": "code",
      "execution_count": null,
      "metadata": {
        "colab": {
          "base_uri": "https://localhost:8080/",
          "height": 680
        },
        "id": "dtBiJ6fKrGlh",
        "outputId": "dd0c045e-160c-49c3-d3c0-a7fb20ba92be"
      },
      "outputs": [
        {
          "output_type": "execute_result",
          "data": {
            "text/plain": [
              "aimp        0\n",
              "amud        0\n",
              "arnd        0\n",
              "asin1       0\n",
              "asin2       0\n",
              "adbr        0\n",
              "adfl        0\n",
              "bed1        0\n",
              "bed2        0\n",
              "bfo1        0\n",
              "bfo2        0\n",
              "bso1        0\n",
              "bso2        0\n",
              "bso3        0\n",
              "ced1        0\n",
              "cfo1        0\n",
              "cso1        0\n",
              "y           0\n",
              "category    0\n",
              "dtype: int64"
            ],
            "text/html": [
              "<div>\n",
              "<style scoped>\n",
              "    .dataframe tbody tr th:only-of-type {\n",
              "        vertical-align: middle;\n",
              "    }\n",
              "\n",
              "    .dataframe tbody tr th {\n",
              "        vertical-align: top;\n",
              "    }\n",
              "\n",
              "    .dataframe thead th {\n",
              "        text-align: right;\n",
              "    }\n",
              "</style>\n",
              "<table border=\"1\" class=\"dataframe\">\n",
              "  <thead>\n",
              "    <tr style=\"text-align: right;\">\n",
              "      <th></th>\n",
              "      <th>0</th>\n",
              "    </tr>\n",
              "  </thead>\n",
              "  <tbody>\n",
              "    <tr>\n",
              "      <th>aimp</th>\n",
              "      <td>0</td>\n",
              "    </tr>\n",
              "    <tr>\n",
              "      <th>amud</th>\n",
              "      <td>0</td>\n",
              "    </tr>\n",
              "    <tr>\n",
              "      <th>arnd</th>\n",
              "      <td>0</td>\n",
              "    </tr>\n",
              "    <tr>\n",
              "      <th>asin1</th>\n",
              "      <td>0</td>\n",
              "    </tr>\n",
              "    <tr>\n",
              "      <th>asin2</th>\n",
              "      <td>0</td>\n",
              "    </tr>\n",
              "    <tr>\n",
              "      <th>adbr</th>\n",
              "      <td>0</td>\n",
              "    </tr>\n",
              "    <tr>\n",
              "      <th>adfl</th>\n",
              "      <td>0</td>\n",
              "    </tr>\n",
              "    <tr>\n",
              "      <th>bed1</th>\n",
              "      <td>0</td>\n",
              "    </tr>\n",
              "    <tr>\n",
              "      <th>bed2</th>\n",
              "      <td>0</td>\n",
              "    </tr>\n",
              "    <tr>\n",
              "      <th>bfo1</th>\n",
              "      <td>0</td>\n",
              "    </tr>\n",
              "    <tr>\n",
              "      <th>bfo2</th>\n",
              "      <td>0</td>\n",
              "    </tr>\n",
              "    <tr>\n",
              "      <th>bso1</th>\n",
              "      <td>0</td>\n",
              "    </tr>\n",
              "    <tr>\n",
              "      <th>bso2</th>\n",
              "      <td>0</td>\n",
              "    </tr>\n",
              "    <tr>\n",
              "      <th>bso3</th>\n",
              "      <td>0</td>\n",
              "    </tr>\n",
              "    <tr>\n",
              "      <th>ced1</th>\n",
              "      <td>0</td>\n",
              "    </tr>\n",
              "    <tr>\n",
              "      <th>cfo1</th>\n",
              "      <td>0</td>\n",
              "    </tr>\n",
              "    <tr>\n",
              "      <th>cso1</th>\n",
              "      <td>0</td>\n",
              "    </tr>\n",
              "    <tr>\n",
              "      <th>y</th>\n",
              "      <td>0</td>\n",
              "    </tr>\n",
              "    <tr>\n",
              "      <th>category</th>\n",
              "      <td>0</td>\n",
              "    </tr>\n",
              "  </tbody>\n",
              "</table>\n",
              "</div><br><label><b>dtype:</b> int64</label>"
            ]
          },
          "metadata": {},
          "execution_count": 10
        }
      ],
      "source": [
        "# check for missing values\n",
        "\n",
        "df.isnull().sum()"
      ]
    },
    {
      "cell_type": "code",
      "execution_count": null,
      "metadata": {
        "id": "AhdKPbDXrGiq"
      },
      "outputs": [],
      "source": [
        "# load metadata csv\n",
        "\n",
        "df_metadata = pd.read_csv(f'{path}metadata.csv')"
      ]
    },
    {
      "cell_type": "code",
      "execution_count": null,
      "metadata": {
        "colab": {
          "base_uri": "https://localhost:8080/",
          "height": 224
        },
        "id": "andH0HQ1rGfi",
        "outputId": "3cc45dd2-4ef1-4e21-c869-c83ef7f42896"
      },
      "outputs": [
        {
          "output_type": "stream",
          "name": "stdout",
          "text": [
            "(200, 5)\n"
          ]
        },
        {
          "output_type": "execute_result",
          "data": {
            "text/plain": [
              "            start_time             end_time root_cause  affected  category\n",
              "0  2023-01-12 15:11:45  2023-01-12 15:20:05       bso3  ['cfo1']        12\n",
              "1  2023-01-12 16:27:46  2023-01-12 17:51:06       bso3  ['cfo1']         1\n",
              "2  2023-01-12 18:19:35  2023-01-12 18:36:15       bfo2  ['cso1']         8\n",
              "3  2023-01-12 20:46:32  2023-01-12 20:51:32       bed2  ['ced1']         7\n",
              "4  2023-01-13 05:57:10  2023-01-13 06:02:10       bfo1  ['cfo1']         9"
            ],
            "text/html": [
              "\n",
              "  <div id=\"df-b66fc2cf-6757-4083-b81a-7310bd505f39\" class=\"colab-df-container\">\n",
              "    <div>\n",
              "<style scoped>\n",
              "    .dataframe tbody tr th:only-of-type {\n",
              "        vertical-align: middle;\n",
              "    }\n",
              "\n",
              "    .dataframe tbody tr th {\n",
              "        vertical-align: top;\n",
              "    }\n",
              "\n",
              "    .dataframe thead th {\n",
              "        text-align: right;\n",
              "    }\n",
              "</style>\n",
              "<table border=\"1\" class=\"dataframe\">\n",
              "  <thead>\n",
              "    <tr style=\"text-align: right;\">\n",
              "      <th></th>\n",
              "      <th>start_time</th>\n",
              "      <th>end_time</th>\n",
              "      <th>root_cause</th>\n",
              "      <th>affected</th>\n",
              "      <th>category</th>\n",
              "    </tr>\n",
              "  </thead>\n",
              "  <tbody>\n",
              "    <tr>\n",
              "      <th>0</th>\n",
              "      <td>2023-01-12 15:11:45</td>\n",
              "      <td>2023-01-12 15:20:05</td>\n",
              "      <td>bso3</td>\n",
              "      <td>['cfo1']</td>\n",
              "      <td>12</td>\n",
              "    </tr>\n",
              "    <tr>\n",
              "      <th>1</th>\n",
              "      <td>2023-01-12 16:27:46</td>\n",
              "      <td>2023-01-12 17:51:06</td>\n",
              "      <td>bso3</td>\n",
              "      <td>['cfo1']</td>\n",
              "      <td>1</td>\n",
              "    </tr>\n",
              "    <tr>\n",
              "      <th>2</th>\n",
              "      <td>2023-01-12 18:19:35</td>\n",
              "      <td>2023-01-12 18:36:15</td>\n",
              "      <td>bfo2</td>\n",
              "      <td>['cso1']</td>\n",
              "      <td>8</td>\n",
              "    </tr>\n",
              "    <tr>\n",
              "      <th>3</th>\n",
              "      <td>2023-01-12 20:46:32</td>\n",
              "      <td>2023-01-12 20:51:32</td>\n",
              "      <td>bed2</td>\n",
              "      <td>['ced1']</td>\n",
              "      <td>7</td>\n",
              "    </tr>\n",
              "    <tr>\n",
              "      <th>4</th>\n",
              "      <td>2023-01-13 05:57:10</td>\n",
              "      <td>2023-01-13 06:02:10</td>\n",
              "      <td>bfo1</td>\n",
              "      <td>['cfo1']</td>\n",
              "      <td>9</td>\n",
              "    </tr>\n",
              "  </tbody>\n",
              "</table>\n",
              "</div>\n",
              "    <div class=\"colab-df-buttons\">\n",
              "\n",
              "  <div class=\"colab-df-container\">\n",
              "    <button class=\"colab-df-convert\" onclick=\"convertToInteractive('df-b66fc2cf-6757-4083-b81a-7310bd505f39')\"\n",
              "            title=\"Convert this dataframe to an interactive table.\"\n",
              "            style=\"display:none;\">\n",
              "\n",
              "  <svg xmlns=\"http://www.w3.org/2000/svg\" height=\"24px\" viewBox=\"0 -960 960 960\">\n",
              "    <path d=\"M120-120v-720h720v720H120Zm60-500h600v-160H180v160Zm220 220h160v-160H400v160Zm0 220h160v-160H400v160ZM180-400h160v-160H180v160Zm440 0h160v-160H620v160ZM180-180h160v-160H180v160Zm440 0h160v-160H620v160Z\"/>\n",
              "  </svg>\n",
              "    </button>\n",
              "\n",
              "  <style>\n",
              "    .colab-df-container {\n",
              "      display:flex;\n",
              "      gap: 12px;\n",
              "    }\n",
              "\n",
              "    .colab-df-convert {\n",
              "      background-color: #E8F0FE;\n",
              "      border: none;\n",
              "      border-radius: 50%;\n",
              "      cursor: pointer;\n",
              "      display: none;\n",
              "      fill: #1967D2;\n",
              "      height: 32px;\n",
              "      padding: 0 0 0 0;\n",
              "      width: 32px;\n",
              "    }\n",
              "\n",
              "    .colab-df-convert:hover {\n",
              "      background-color: #E2EBFA;\n",
              "      box-shadow: 0px 1px 2px rgba(60, 64, 67, 0.3), 0px 1px 3px 1px rgba(60, 64, 67, 0.15);\n",
              "      fill: #174EA6;\n",
              "    }\n",
              "\n",
              "    .colab-df-buttons div {\n",
              "      margin-bottom: 4px;\n",
              "    }\n",
              "\n",
              "    [theme=dark] .colab-df-convert {\n",
              "      background-color: #3B4455;\n",
              "      fill: #D2E3FC;\n",
              "    }\n",
              "\n",
              "    [theme=dark] .colab-df-convert:hover {\n",
              "      background-color: #434B5C;\n",
              "      box-shadow: 0px 1px 3px 1px rgba(0, 0, 0, 0.15);\n",
              "      filter: drop-shadow(0px 1px 2px rgba(0, 0, 0, 0.3));\n",
              "      fill: #FFFFFF;\n",
              "    }\n",
              "  </style>\n",
              "\n",
              "    <script>\n",
              "      const buttonEl =\n",
              "        document.querySelector('#df-b66fc2cf-6757-4083-b81a-7310bd505f39 button.colab-df-convert');\n",
              "      buttonEl.style.display =\n",
              "        google.colab.kernel.accessAllowed ? 'block' : 'none';\n",
              "\n",
              "      async function convertToInteractive(key) {\n",
              "        const element = document.querySelector('#df-b66fc2cf-6757-4083-b81a-7310bd505f39');\n",
              "        const dataTable =\n",
              "          await google.colab.kernel.invokeFunction('convertToInteractive',\n",
              "                                                    [key], {});\n",
              "        if (!dataTable) return;\n",
              "\n",
              "        const docLinkHtml = 'Like what you see? Visit the ' +\n",
              "          '<a target=\"_blank\" href=https://colab.research.google.com/notebooks/data_table.ipynb>data table notebook</a>'\n",
              "          + ' to learn more about interactive tables.';\n",
              "        element.innerHTML = '';\n",
              "        dataTable['output_type'] = 'display_data';\n",
              "        await google.colab.output.renderOutput(dataTable, element);\n",
              "        const docLink = document.createElement('div');\n",
              "        docLink.innerHTML = docLinkHtml;\n",
              "        element.appendChild(docLink);\n",
              "      }\n",
              "    </script>\n",
              "  </div>\n",
              "\n",
              "\n",
              "<div id=\"df-97ef67e9-9d8a-4798-b2ae-fdc67ec9f49d\">\n",
              "  <button class=\"colab-df-quickchart\" onclick=\"quickchart('df-97ef67e9-9d8a-4798-b2ae-fdc67ec9f49d')\"\n",
              "            title=\"Suggest charts\"\n",
              "            style=\"display:none;\">\n",
              "\n",
              "<svg xmlns=\"http://www.w3.org/2000/svg\" height=\"24px\"viewBox=\"0 0 24 24\"\n",
              "     width=\"24px\">\n",
              "    <g>\n",
              "        <path d=\"M19 3H5c-1.1 0-2 .9-2 2v14c0 1.1.9 2 2 2h14c1.1 0 2-.9 2-2V5c0-1.1-.9-2-2-2zM9 17H7v-7h2v7zm4 0h-2V7h2v10zm4 0h-2v-4h2v4z\"/>\n",
              "    </g>\n",
              "</svg>\n",
              "  </button>\n",
              "\n",
              "<style>\n",
              "  .colab-df-quickchart {\n",
              "      --bg-color: #E8F0FE;\n",
              "      --fill-color: #1967D2;\n",
              "      --hover-bg-color: #E2EBFA;\n",
              "      --hover-fill-color: #174EA6;\n",
              "      --disabled-fill-color: #AAA;\n",
              "      --disabled-bg-color: #DDD;\n",
              "  }\n",
              "\n",
              "  [theme=dark] .colab-df-quickchart {\n",
              "      --bg-color: #3B4455;\n",
              "      --fill-color: #D2E3FC;\n",
              "      --hover-bg-color: #434B5C;\n",
              "      --hover-fill-color: #FFFFFF;\n",
              "      --disabled-bg-color: #3B4455;\n",
              "      --disabled-fill-color: #666;\n",
              "  }\n",
              "\n",
              "  .colab-df-quickchart {\n",
              "    background-color: var(--bg-color);\n",
              "    border: none;\n",
              "    border-radius: 50%;\n",
              "    cursor: pointer;\n",
              "    display: none;\n",
              "    fill: var(--fill-color);\n",
              "    height: 32px;\n",
              "    padding: 0;\n",
              "    width: 32px;\n",
              "  }\n",
              "\n",
              "  .colab-df-quickchart:hover {\n",
              "    background-color: var(--hover-bg-color);\n",
              "    box-shadow: 0 1px 2px rgba(60, 64, 67, 0.3), 0 1px 3px 1px rgba(60, 64, 67, 0.15);\n",
              "    fill: var(--button-hover-fill-color);\n",
              "  }\n",
              "\n",
              "  .colab-df-quickchart-complete:disabled,\n",
              "  .colab-df-quickchart-complete:disabled:hover {\n",
              "    background-color: var(--disabled-bg-color);\n",
              "    fill: var(--disabled-fill-color);\n",
              "    box-shadow: none;\n",
              "  }\n",
              "\n",
              "  .colab-df-spinner {\n",
              "    border: 2px solid var(--fill-color);\n",
              "    border-color: transparent;\n",
              "    border-bottom-color: var(--fill-color);\n",
              "    animation:\n",
              "      spin 1s steps(1) infinite;\n",
              "  }\n",
              "\n",
              "  @keyframes spin {\n",
              "    0% {\n",
              "      border-color: transparent;\n",
              "      border-bottom-color: var(--fill-color);\n",
              "      border-left-color: var(--fill-color);\n",
              "    }\n",
              "    20% {\n",
              "      border-color: transparent;\n",
              "      border-left-color: var(--fill-color);\n",
              "      border-top-color: var(--fill-color);\n",
              "    }\n",
              "    30% {\n",
              "      border-color: transparent;\n",
              "      border-left-color: var(--fill-color);\n",
              "      border-top-color: var(--fill-color);\n",
              "      border-right-color: var(--fill-color);\n",
              "    }\n",
              "    40% {\n",
              "      border-color: transparent;\n",
              "      border-right-color: var(--fill-color);\n",
              "      border-top-color: var(--fill-color);\n",
              "    }\n",
              "    60% {\n",
              "      border-color: transparent;\n",
              "      border-right-color: var(--fill-color);\n",
              "    }\n",
              "    80% {\n",
              "      border-color: transparent;\n",
              "      border-right-color: var(--fill-color);\n",
              "      border-bottom-color: var(--fill-color);\n",
              "    }\n",
              "    90% {\n",
              "      border-color: transparent;\n",
              "      border-bottom-color: var(--fill-color);\n",
              "    }\n",
              "  }\n",
              "</style>\n",
              "\n",
              "  <script>\n",
              "    async function quickchart(key) {\n",
              "      const quickchartButtonEl =\n",
              "        document.querySelector('#' + key + ' button');\n",
              "      quickchartButtonEl.disabled = true;  // To prevent multiple clicks.\n",
              "      quickchartButtonEl.classList.add('colab-df-spinner');\n",
              "      try {\n",
              "        const charts = await google.colab.kernel.invokeFunction(\n",
              "            'suggestCharts', [key], {});\n",
              "      } catch (error) {\n",
              "        console.error('Error during call to suggestCharts:', error);\n",
              "      }\n",
              "      quickchartButtonEl.classList.remove('colab-df-spinner');\n",
              "      quickchartButtonEl.classList.add('colab-df-quickchart-complete');\n",
              "    }\n",
              "    (() => {\n",
              "      let quickchartButtonEl =\n",
              "        document.querySelector('#df-97ef67e9-9d8a-4798-b2ae-fdc67ec9f49d button');\n",
              "      quickchartButtonEl.style.display =\n",
              "        google.colab.kernel.accessAllowed ? 'block' : 'none';\n",
              "    })();\n",
              "  </script>\n",
              "</div>\n",
              "\n",
              "    </div>\n",
              "  </div>\n"
            ],
            "application/vnd.google.colaboratory.intrinsic+json": {
              "type": "dataframe",
              "variable_name": "df_metadata",
              "summary": "{\n  \"name\": \"df_metadata\",\n  \"rows\": 200,\n  \"fields\": [\n    {\n      \"column\": \"start_time\",\n      \"properties\": {\n        \"dtype\": \"object\",\n        \"num_unique_values\": 200,\n        \"samples\": [\n          \"2023-02-02 08:02:13\",\n          \"2023-01-15 01:04:48\",\n          \"2023-01-17 19:56:12\"\n        ],\n        \"semantic_type\": \"\",\n        \"description\": \"\"\n      }\n    },\n    {\n      \"column\": \"end_time\",\n      \"properties\": {\n        \"dtype\": \"object\",\n        \"num_unique_values\": 200,\n        \"samples\": [\n          \"2023-02-02 08:10:33\",\n          \"2023-01-15 01:13:08\",\n          \"2023-01-17 20:07:52\"\n        ],\n        \"semantic_type\": \"\",\n        \"description\": \"\"\n      }\n    },\n    {\n      \"column\": \"root_cause\",\n      \"properties\": {\n        \"dtype\": \"category\",\n        \"num_unique_values\": 7,\n        \"samples\": [\n          \"bso3\",\n          \"bfo2\",\n          \"bso2\"\n        ],\n        \"semantic_type\": \"\",\n        \"description\": \"\"\n      }\n    },\n    {\n      \"column\": \"affected\",\n      \"properties\": {\n        \"dtype\": \"category\",\n        \"num_unique_values\": 3,\n        \"samples\": [\n          \"['cfo1']\",\n          \"['cso1']\",\n          \"['ced1']\"\n        ],\n        \"semantic_type\": \"\",\n        \"description\": \"\"\n      }\n    },\n    {\n      \"column\": \"category\",\n      \"properties\": {\n        \"dtype\": \"number\",\n        \"std\": 3,\n        \"min\": 1,\n        \"max\": 13,\n        \"num_unique_values\": 13,\n        \"samples\": [\n          13,\n          10,\n          12\n        ],\n        \"semantic_type\": \"\",\n        \"description\": \"\"\n      }\n    }\n  ]\n}"
            }
          },
          "metadata": {},
          "execution_count": 14
        }
      ],
      "source": [
        "print(df_metadata.shape)\n",
        "df_metadata.head()"
      ]
    },
    {
      "cell_type": "code",
      "execution_count": null,
      "metadata": {
        "colab": {
          "base_uri": "https://localhost:8080/",
          "height": 523
        },
        "id": "Byb9l0rorGcq",
        "outputId": "67ba6d34-77ca-4a64-a2e2-169844263d9b"
      },
      "outputs": [
        {
          "output_type": "execute_result",
          "data": {
            "text/plain": [
              "category\n",
              "8     28\n",
              "3     22\n",
              "12    20\n",
              "7     20\n",
              "9     18\n",
              "4     15\n",
              "5     13\n",
              "2     13\n",
              "13    12\n",
              "6     12\n",
              "1     11\n",
              "10    10\n",
              "11     6\n",
              "Name: count, dtype: int64"
            ],
            "text/html": [
              "<div>\n",
              "<style scoped>\n",
              "    .dataframe tbody tr th:only-of-type {\n",
              "        vertical-align: middle;\n",
              "    }\n",
              "\n",
              "    .dataframe tbody tr th {\n",
              "        vertical-align: top;\n",
              "    }\n",
              "\n",
              "    .dataframe thead th {\n",
              "        text-align: right;\n",
              "    }\n",
              "</style>\n",
              "<table border=\"1\" class=\"dataframe\">\n",
              "  <thead>\n",
              "    <tr style=\"text-align: right;\">\n",
              "      <th></th>\n",
              "      <th>count</th>\n",
              "    </tr>\n",
              "    <tr>\n",
              "      <th>category</th>\n",
              "      <th></th>\n",
              "    </tr>\n",
              "  </thead>\n",
              "  <tbody>\n",
              "    <tr>\n",
              "      <th>8</th>\n",
              "      <td>28</td>\n",
              "    </tr>\n",
              "    <tr>\n",
              "      <th>3</th>\n",
              "      <td>22</td>\n",
              "    </tr>\n",
              "    <tr>\n",
              "      <th>12</th>\n",
              "      <td>20</td>\n",
              "    </tr>\n",
              "    <tr>\n",
              "      <th>7</th>\n",
              "      <td>20</td>\n",
              "    </tr>\n",
              "    <tr>\n",
              "      <th>9</th>\n",
              "      <td>18</td>\n",
              "    </tr>\n",
              "    <tr>\n",
              "      <th>4</th>\n",
              "      <td>15</td>\n",
              "    </tr>\n",
              "    <tr>\n",
              "      <th>5</th>\n",
              "      <td>13</td>\n",
              "    </tr>\n",
              "    <tr>\n",
              "      <th>2</th>\n",
              "      <td>13</td>\n",
              "    </tr>\n",
              "    <tr>\n",
              "      <th>13</th>\n",
              "      <td>12</td>\n",
              "    </tr>\n",
              "    <tr>\n",
              "      <th>6</th>\n",
              "      <td>12</td>\n",
              "    </tr>\n",
              "    <tr>\n",
              "      <th>1</th>\n",
              "      <td>11</td>\n",
              "    </tr>\n",
              "    <tr>\n",
              "      <th>10</th>\n",
              "      <td>10</td>\n",
              "    </tr>\n",
              "    <tr>\n",
              "      <th>11</th>\n",
              "      <td>6</td>\n",
              "    </tr>\n",
              "  </tbody>\n",
              "</table>\n",
              "</div><br><label><b>dtype:</b> int64</label>"
            ]
          },
          "metadata": {},
          "execution_count": 15
        }
      ],
      "source": [
        "df_metadata.category.value_counts()"
      ]
    },
    {
      "cell_type": "code",
      "execution_count": null,
      "metadata": {
        "colab": {
          "base_uri": "https://localhost:8080/",
          "height": 568
        },
        "id": "dBp_QXf7rGZi",
        "outputId": "580898d3-e1ad-46dd-be32-e18af1d58453"
      },
      "outputs": [
        {
          "output_type": "display_data",
          "data": {
            "text/plain": [
              "<Figure size 1000x600 with 1 Axes>"
            ],
            "image/png": "[encoded data removed]"
          },
          "metadata": {}
        }
      ],
      "source": [
        "# Plot graph of categories\n",
        "\n",
        "plt.figure(figsize=(10,6))\n",
        "\n",
        "sns.countplot(x='category', data=df_metadata)\n",
        "\n",
        "plt.title('Number of segments per category')\n",
        "\n",
        "plt.xticks(rotation=90)\n",
        "\n",
        "plt.show()"
      ]
    },
    {
      "cell_type": "code",
      "execution_count": null,
      "metadata": {
        "colab": {
          "base_uri": "https://localhost:8080/",
          "height": 178
        },
        "id": "zw3vRhx5sAOj",
        "outputId": "d06ff9ae-6f4e-4a9a-c14e-52d019858ab8"
      },
      "outputs": [
        {
          "output_type": "execute_result",
          "data": {
            "text/plain": [
              "y\n",
              "0.0    4809900\n",
              "1.0     190100\n",
              "Name: count, dtype: int64"
            ],
            "text/html": [
              "<div>\n",
              "<style scoped>\n",
              "    .dataframe tbody tr th:only-of-type {\n",
              "        vertical-align: middle;\n",
              "    }\n",
              "\n",
              "    .dataframe tbody tr th {\n",
              "        vertical-align: top;\n",
              "    }\n",
              "\n",
              "    .dataframe thead th {\n",
              "        text-align: right;\n",
              "    }\n",
              "</style>\n",
              "<table border=\"1\" class=\"dataframe\">\n",
              "  <thead>\n",
              "    <tr style=\"text-align: right;\">\n",
              "      <th></th>\n",
              "      <th>count</th>\n",
              "    </tr>\n",
              "    <tr>\n",
              "      <th>y</th>\n",
              "      <th></th>\n",
              "    </tr>\n",
              "  </thead>\n",
              "  <tbody>\n",
              "    <tr>\n",
              "      <th>0.0</th>\n",
              "      <td>4809900</td>\n",
              "    </tr>\n",
              "    <tr>\n",
              "      <th>1.0</th>\n",
              "      <td>190100</td>\n",
              "    </tr>\n",
              "  </tbody>\n",
              "</table>\n",
              "</div><br><label><b>dtype:</b> int64</label>"
            ]
          },
          "metadata": {},
          "execution_count": 17
        }
      ],
      "source": [
        "# check for class imbalance\n",
        "\n",
        "y_df.value_counts()"
      ]
    },
    {
      "cell_type": "code",
      "execution_count": null,
      "metadata": {
        "colab": {
          "base_uri": "https://localhost:8080/",
          "height": 147
        },
        "id": "TCHGafYpsALs",
        "outputId": "e4ae834d-5d25-4aae-ff9b-c7dc11019705"
      },
      "outputs": [
        {
          "output_type": "execute_result",
          "data": {
            "text/plain": [
              "y\n",
              "0.0    1000000\n",
              "Name: count, dtype: int64"
            ],
            "text/html": [
              "<div>\n",
              "<style scoped>\n",
              "    .dataframe tbody tr th:only-of-type {\n",
              "        vertical-align: middle;\n",
              "    }\n",
              "\n",
              "    .dataframe tbody tr th {\n",
              "        vertical-align: top;\n",
              "    }\n",
              "\n",
              "    .dataframe thead th {\n",
              "        text-align: right;\n",
              "    }\n",
              "</style>\n",
              "<table border=\"1\" class=\"dataframe\">\n",
              "  <thead>\n",
              "    <tr style=\"text-align: right;\">\n",
              "      <th></th>\n",
              "      <th>count</th>\n",
              "    </tr>\n",
              "    <tr>\n",
              "      <th>y</th>\n",
              "      <th></th>\n",
              "    </tr>\n",
              "  </thead>\n",
              "  <tbody>\n",
              "    <tr>\n",
              "      <th>0.0</th>\n",
              "      <td>1000000</td>\n",
              "    </tr>\n",
              "  </tbody>\n",
              "</table>\n",
              "</div><br><label><b>dtype:</b> int64</label>"
            ]
          },
          "metadata": {},
          "execution_count": 16
        }
      ],
      "source": [
        "# check for labels in first 1000000 rows\n",
        "\n",
        "y_df[:1000000].value_counts()"
      ]
    },
    {
      "cell_type": "markdown",
      "source": [],
      "metadata": {
        "id": "VYl7CpK425e4"
      }
    },
    {
      "cell_type": "code",
      "source": [
        "import pandas as pd\n",
        "import matplotlib.pyplot as plt\n",
        "\n",
        "# Load the main dataset\n",
        "df = pd.read_csv(f'{path}data.csv')\n",
        "\n",
        "# Load the metadata CSV\n",
        "df_metadata = pd.read_csv(f'{path}metadata.csv')\n",
        "\n",
        "# Display the first few rows of the metadata to understand its structure\n",
        "print(df_metadata.head())\n",
        "\n",
        "# If you want to analyze a specific feature from the metadata (e.g., a description column, or other relevant information)\n",
        "# For example, if the metadata has a 'category' column that provides information about the anomaly type\n",
        "category_counts = df_metadata['category'].value_counts()\n",
        "\n",
        "# Create the bar chart for category distribution in the metadata\n",
        "plt.figure(figsize=(8, 6))\n",
        "category_counts.plot(kind='bar', color=['green', 'red', 'blue'])\n",
        "plt.title('Category Distribution from Metadata', fontsize=14)\n",
        "plt.xlabel('Category', fontsize=12)\n",
        "plt.ylabel('Count', fontsize=12)\n",
        "plt.xticks(rotation=45)  # Rotate x-axis labels for better readability\n",
        "plt.show()\n"
      ],
      "metadata": {
        "colab": {
          "base_uri": "https://localhost:8080/",
          "height": 685
        },
        "id": "NMgEFx-D25zb",
        "outputId": "94450db8-74fa-4d42-f8b8-cf5b8b51e17f"
      },
      "execution_count": null,
      "outputs": [
        {
          "output_type": "stream",
          "name": "stdout",
          "text": [
            "            start_time             end_time root_cause  affected  category\n",
            "0  2023-01-12 15:11:45  2023-01-12 15:20:05       bso3  ['cfo1']        12\n",
            "1  2023-01-12 16:27:46  2023-01-12 17:51:06       bso3  ['cfo1']         1\n",
            "2  2023-01-12 18:19:35  2023-01-12 18:36:15       bfo2  ['cso1']         8\n",
            "3  2023-01-12 20:46:32  2023-01-12 20:51:32       bed2  ['ced1']         7\n",
            "4  2023-01-13 05:57:10  2023-01-13 06:02:10       bfo1  ['cfo1']         9\n"
          ]
        },
        {
          "output_type": "display_data",
          "data": {
            "text/plain": [
              "<Figure size 800x600 with 1 Axes>"
            ],
            "image/png": "[encoded data removed]"
          },
          "metadata": {}
        }
      ]
    },
    {
      "cell_type": "markdown",
      "source": [],
      "metadata": {
        "id": "M-UOOG2626Do"
      }
    },
    {
      "cell_type": "code",
      "execution_count": null,
      "metadata": {
        "colab": {
          "base_uri": "https://localhost:8080/",
          "height": 178
        },
        "id": "2yGVxl2CsAJG",
        "outputId": "94876ead-f9ce-4d51-b65e-fcbeaf164000"
      },
      "outputs": [
        {
          "output_type": "execute_result",
          "data": {
            "text/plain": [
              "y\n",
              "0.0    3809900\n",
              "1.0     190100\n",
              "Name: count, dtype: int64"
            ],
            "text/html": [
              "<div>\n",
              "<style scoped>\n",
              "    .dataframe tbody tr th:only-of-type {\n",
              "        vertical-align: middle;\n",
              "    }\n",
              "\n",
              "    .dataframe tbody tr th {\n",
              "        vertical-align: top;\n",
              "    }\n",
              "\n",
              "    .dataframe thead th {\n",
              "        text-align: right;\n",
              "    }\n",
              "</style>\n",
              "<table border=\"1\" class=\"dataframe\">\n",
              "  <thead>\n",
              "    <tr style=\"text-align: right;\">\n",
              "      <th></th>\n",
              "      <th>count</th>\n",
              "    </tr>\n",
              "    <tr>\n",
              "      <th>y</th>\n",
              "      <th></th>\n",
              "    </tr>\n",
              "  </thead>\n",
              "  <tbody>\n",
              "    <tr>\n",
              "      <th>0.0</th>\n",
              "      <td>3809900</td>\n",
              "    </tr>\n",
              "    <tr>\n",
              "      <th>1.0</th>\n",
              "      <td>190100</td>\n",
              "    </tr>\n",
              "  </tbody>\n",
              "</table>\n",
              "</div><br><label><b>dtype:</b> int64</label>"
            ]
          },
          "metadata": {},
          "execution_count": 17
        }
      ],
      "source": [
        "y_df[1000000:].value_counts()"
      ]
    },
    {
      "cell_type": "code",
      "execution_count": null,
      "metadata": {
        "colab": {
          "base_uri": "https://localhost:8080/"
        },
        "id": "4ySCqYDMsAGO",
        "outputId": "79cc9903-27d5-475c-e9d1-b799257147d5"
      },
      "outputs": [
        {
          "output_type": "stream",
          "name": "stdout",
          "text": [
            "category\n",
            "0.0     4809900\n",
            "8.0       32600\n",
            "1.0       20400\n",
            "12.0      19600\n",
            "7.0       19100\n",
            "3.0       18000\n",
            "4.0       15600\n",
            "6.0       12100\n",
            "2.0       12000\n",
            "9.0       10400\n",
            "5.0        9900\n",
            "11.0       9100\n",
            "10.0       6400\n",
            "13.0       4900\n",
            "Name: count, dtype: int64\n",
            "category\n",
            "8     28\n",
            "3     22\n",
            "12    20\n",
            "7     20\n",
            "9     18\n",
            "4     15\n",
            "5     13\n",
            "2     13\n",
            "6     12\n",
            "13    12\n",
            "1     11\n",
            "10    10\n",
            "11     6\n",
            "Name: count, dtype: int64\n"
          ]
        }
      ],
      "source": [
        "# Check for values in the category column from the original dataframe\n",
        "print(df['category'].value_counts())\n",
        "\n",
        "# Or, from df_metadata if you're analyzing metadata categories\n",
        "print(df_metadata['category'].value_counts())"
      ]
    },
    {
      "cell_type": "code",
      "execution_count": null,
      "metadata": {
        "colab": {
          "base_uri": "https://localhost:8080/",
          "height": 1000
        },
        "id": "wxPwHLaxsADW",
        "outputId": "646c2d82-ab0f-416c-f98b-7ec23703c429"
      },
      "outputs": [
        {
          "output_type": "display_data",
          "data": {
            "text/plain": [
              "<Figure size 1200x600 with 1 Axes>"
            ],
            "image/png": "[encoded data removed]"
          },
          "metadata": {}
        },
        {
          "output_type": "display_data",
          "data": {
            "text/plain": [
              "<Figure size 1200x600 with 1 Axes>"
            ],
            "image/png": "[encoded data removed]"
          },
          "metadata": {}
        }
      ],
      "source": [
        "# Plot category counts from the main dataset\n",
        "plt.figure(figsize=(12, 6))\n",
        "sns.countplot(x=df['category'])\n",
        "plt.title(\"Category Distribution in Main Dataset (df)\")\n",
        "plt.xticks(rotation=90)\n",
        "plt.show()\n",
        "\n",
        "# Plot category counts from metadata\n",
        "plt.figure(figsize=(12, 6))\n",
        "sns.countplot(x=df_metadata['category'])\n",
        "plt.title(\"Category Distribution in Metadata (df_metadata)\")\n",
        "plt.xticks(rotation=90)\n",
        "plt.show()\n"
      ]
    },
    {
      "cell_type": "code",
      "execution_count": null,
      "metadata": {
        "id": "aWEhMpzcsAAP"
      },
      "outputs": [],
      "source": [
        "# split the data into x and y dataframes, keeping 'category' in X_df\n",
        "X_df = df.drop('y', axis=1)\n",
        "y_df = df['y']\n"
      ]
    },
    {
      "cell_type": "code",
      "execution_count": null,
      "metadata": {
        "colab": {
          "base_uri": "https://localhost:8080/",
          "height": 554
        },
        "id": "weirufhHr_9X",
        "outputId": "d17354c0-3ce1-4553-f13b-925958024d50"
      },
      "outputs": [
        {
          "output_type": "execute_result",
          "data": {
            "text/plain": [
              "category\n",
              "0.0     4809900\n",
              "8.0       32600\n",
              "1.0       20400\n",
              "12.0      19600\n",
              "7.0       19100\n",
              "3.0       18000\n",
              "4.0       15600\n",
              "6.0       12100\n",
              "2.0       12000\n",
              "9.0       10400\n",
              "5.0        9900\n",
              "11.0       9100\n",
              "10.0       6400\n",
              "13.0       4900\n",
              "Name: count, dtype: int64"
            ],
            "text/html": [
              "<div>\n",
              "<style scoped>\n",
              "    .dataframe tbody tr th:only-of-type {\n",
              "        vertical-align: middle;\n",
              "    }\n",
              "\n",
              "    .dataframe tbody tr th {\n",
              "        vertical-align: top;\n",
              "    }\n",
              "\n",
              "    .dataframe thead th {\n",
              "        text-align: right;\n",
              "    }\n",
              "</style>\n",
              "<table border=\"1\" class=\"dataframe\">\n",
              "  <thead>\n",
              "    <tr style=\"text-align: right;\">\n",
              "      <th></th>\n",
              "      <th>count</th>\n",
              "    </tr>\n",
              "    <tr>\n",
              "      <th>category</th>\n",
              "      <th></th>\n",
              "    </tr>\n",
              "  </thead>\n",
              "  <tbody>\n",
              "    <tr>\n",
              "      <th>0.0</th>\n",
              "      <td>4809900</td>\n",
              "    </tr>\n",
              "    <tr>\n",
              "      <th>8.0</th>\n",
              "      <td>32600</td>\n",
              "    </tr>\n",
              "    <tr>\n",
              "      <th>1.0</th>\n",
              "      <td>20400</td>\n",
              "    </tr>\n",
              "    <tr>\n",
              "      <th>12.0</th>\n",
              "      <td>19600</td>\n",
              "    </tr>\n",
              "    <tr>\n",
              "      <th>7.0</th>\n",
              "      <td>19100</td>\n",
              "    </tr>\n",
              "    <tr>\n",
              "      <th>3.0</th>\n",
              "      <td>18000</td>\n",
              "    </tr>\n",
              "    <tr>\n",
              "      <th>4.0</th>\n",
              "      <td>15600</td>\n",
              "    </tr>\n",
              "    <tr>\n",
              "      <th>6.0</th>\n",
              "      <td>12100</td>\n",
              "    </tr>\n",
              "    <tr>\n",
              "      <th>2.0</th>\n",
              "      <td>12000</td>\n",
              "    </tr>\n",
              "    <tr>\n",
              "      <th>9.0</th>\n",
              "      <td>10400</td>\n",
              "    </tr>\n",
              "    <tr>\n",
              "      <th>5.0</th>\n",
              "      <td>9900</td>\n",
              "    </tr>\n",
              "    <tr>\n",
              "      <th>11.0</th>\n",
              "      <td>9100</td>\n",
              "    </tr>\n",
              "    <tr>\n",
              "      <th>10.0</th>\n",
              "      <td>6400</td>\n",
              "    </tr>\n",
              "    <tr>\n",
              "      <th>13.0</th>\n",
              "      <td>4900</td>\n",
              "    </tr>\n",
              "  </tbody>\n",
              "</table>\n",
              "</div><br><label><b>dtype:</b> int64</label>"
            ]
          },
          "metadata": {},
          "execution_count": 21
        }
      ],
      "source": [
        "X_df['category'].value_counts()"
      ]
    },
    {
      "cell_type": "code",
      "execution_count": null,
      "metadata": {
        "colab": {
          "base_uri": "https://localhost:8080/",
          "height": 1000
        },
        "id": "i1OscEGwr_6x",
        "outputId": "0acff769-f1cb-4696-9788-fba069182108"
      },
      "outputs": [
        {
          "output_type": "display_data",
          "data": {
            "text/plain": [
              "<Figure size 1500x3000 with 18 Axes>"
            ],
            "image/png": "[encoded data removed]"
          },
          "metadata": {}
        }
      ],
      "source": [
        "# Plot histograms for each numeric feature\n",
        "numeric_features = X_df.select_dtypes(include=['float64', 'int64'])  # Select numeric features\n",
        "numeric_columns = numeric_features.columns\n",
        "\n",
        "num_plots = len(numeric_columns)\n",
        "num_rows = int(np.ceil(num_plots/3)) # Adjust the number of rows as needed\n",
        "\n",
        "fig, axes = plt.subplots(num_rows, 3, figsize=(15, 5*num_rows))\n",
        "\n",
        "for i, column in enumerate(numeric_columns):\n",
        "    row = i // 3\n",
        "    col = i % 3\n",
        "    axes[row, col].hist(X_df[column], bins=20)  # Adjust the number of bins as needed\n",
        "    axes[row, col].set_xlabel(column)\n",
        "    axes[row, col].set_ylabel('Frequency')\n",
        "    axes[row, col].set_title(f'Histogram of {column}\\nSkewness: {skew(df[column]):.2f}')\n",
        "\n",
        "# Remove empty subplots\n",
        "if num_plots % 3 != 0:\n",
        "    for i in range(num_plots % 3, 3):\n",
        "        fig.delaxes(axes[num_rows-1, i])\n",
        "\n",
        "plt.tight_layout()\n",
        "plt.show()"
      ]
    },
    {
      "cell_type": "code",
      "execution_count": null,
      "metadata": {
        "colab": {
          "base_uri": "https://localhost:8080/"
        },
        "id": "Ro-A7VsHr_3p",
        "outputId": "311487d6-2073-4bc6-afdd-8b5a4e799bd0"
      },
      "outputs": [
        {
          "output_type": "stream",
          "name": "stdout",
          "text": [
            "aimp: [0. 1.]\n",
            "amud: [  1.  -1.   2.   3.   6.   5.   0.  10.   7.   4.  -4.   9.  11.   8.\n",
            "  16.  12.  -3.  -6.  -5. -12. -13.  -7.  -9.  -2. -10. -11.  -8. -15.\n",
            " -14. -17. -19. -21. -24. -23. -22. -25. -28. -16. -20. -30. -29. -26.\n",
            " -27. -32. -31. -34. -37. -35. -18.  13.  15.  14.  18.  21.  22.  25.\n",
            "  26.  30.  27.  24.  23.  29.  28.  20.  19.  17. -33. -41. -38. -39.\n",
            " -44. -45. -36. -40. -43. -46. -42. -47.  31.  32.  33.  34.  37.  36.\n",
            "  35.]\n",
            "adbr: [0. 1.]\n",
            "adfl: [0. 1.]\n",
            "category: [ 0. 12.  1.  8.  7.  9.  4.  3.  5. 11. 10.  2. 13.  6.]\n"
          ]
        }
      ],
      "source": [
        "# check the features for which number of unique values is small\n",
        "\n",
        "discrete_features = [feature for feature in numeric_columns if len(X_df[feature].unique()) < 100]\n",
        "\n",
        "for feature in discrete_features:\n",
        "    print(f'{feature}: {X_df[feature].unique()}')"
      ]
    },
    {
      "cell_type": "code",
      "execution_count": null,
      "metadata": {
        "colab": {
          "base_uri": "https://localhost:8080/"
        },
        "id": "laGiONdqr_0x",
        "outputId": "07340db5-06df-4557-a7b8-34f85c4b3e2d"
      },
      "outputs": [
        {
          "output_type": "stream",
          "name": "stdout",
          "text": [
            "Fold 1\n",
            "TRAIN indices: [      0       1       2 ... 1249997 1249998 1249999]\n",
            "TEST indices: [1250000 1250001 1250002 ... 2499997 2499998 2499999]\n",
            "Fold 2\n",
            "TRAIN indices: [      0       1       2 ... 2499997 2499998 2499999]\n",
            "TEST indices: [2500000 2500001 2500002 ... 3749997 3749998 3749999]\n",
            "Fold 3\n",
            "TRAIN indices: [      0       1       2 ... 3749997 3749998 3749999]\n",
            "TEST indices: [3750000 3750001 3750002 ... 4999997 4999998 4999999]\n"
          ]
        }
      ],
      "source": [
        "# Define the number of splits\n",
        "n_splits = 3\n",
        "\n",
        "# Initialize TimeSeriesSplit\n",
        "tscv = TimeSeriesSplit(n_splits=n_splits)\n",
        "\n",
        "# Perform the splits\n",
        "fold = 0\n",
        "for train_index, test_index in tscv.split(X_df):\n",
        "    fold += 1\n",
        "    X_train, X_test = X_df.iloc[train_index], X_df.iloc[test_index]\n",
        "    y_train, y_test = y_df.iloc[train_index], y_df.iloc[test_index]\n",
        "\n",
        "    print(f\"Fold {fold}\")\n",
        "    print(f\"TRAIN indices: {train_index}\")\n",
        "    print(f\"TEST indices: {test_index}\")"
      ]
    },
    {
      "cell_type": "code",
      "execution_count": null,
      "metadata": {
        "colab": {
          "base_uri": "https://localhost:8080/"
        },
        "id": "3k_tu6qEr_yL",
        "outputId": "32f53ca8-bc32-4578-cf2c-4a6cf2b2d56d"
      },
      "outputs": [
        {
          "output_type": "execute_result",
          "data": {
            "text/plain": [
              "{'Fold 1': {'Train': 0.0152, 'Test': 0.04632},\n",
              " 'Fold 2': {'Train': 0.03076, 'Test': 0.04344},\n",
              " 'Fold 3': {'Train': 0.034986666666666666, 'Test': 0.04712}}"
            ]
          },
          "metadata": {},
          "execution_count": 25
        }
      ],
      "source": [
        "# get contamination rates of train and test sets of all folds\n",
        "\n",
        "contamination_rates = {}\n",
        "\n",
        "for train_index, test_index in tscv.split(X_df):\n",
        "    y_train, y_test = y_df.iloc[train_index], y_df.iloc[test_index]\n",
        "    train_contamination_rate = np.mean(y_train)\n",
        "    test_contamination_rate = np.mean(y_test)\n",
        "    contamination_rates[f\"Fold {len(contamination_rates)+1}\"] = {\n",
        "        \"Train\": train_contamination_rate,\n",
        "        \"Test\": test_contamination_rate\n",
        "    }\n",
        "\n",
        "contamination_rates"
      ]
    },
    {
      "cell_type": "code",
      "execution_count": null,
      "metadata": {
        "colab": {
          "base_uri": "https://localhost:8080/",
          "height": 729
        },
        "id": "MzrMkbDmr_vD",
        "outputId": "8ee93ca8-1ebc-47a5-8724-de913f11e7c4"
      },
      "outputs": [
        {
          "output_type": "display_data",
          "data": {
            "text/plain": [
              "<Figure size 1000x800 with 2 Axes>"
            ],
            "image/png": "[encoded data removed]"
          },
          "metadata": {}
        }
      ],
      "source": [
        "# check for correlation matrix between columns, using sns heatmap\n",
        "\n",
        "corr = X_df.corr()\n",
        "\n",
        "plt.figure(figsize=(10, 8))\n",
        "sns.heatmap(corr, annot=False, cmap='coolwarm', linecolor='black')\n",
        "plt.show()"
      ]
    },
    {
      "cell_type": "code",
      "execution_count": null,
      "metadata": {
        "id": "y2vFzfvir_sL"
      },
      "outputs": [],
      "source": []
    },
    {
      "cell_type": "code",
      "execution_count": null,
      "metadata": {
        "id": "AmTUvuUSXUib"
      },
      "outputs": [],
      "source": [
        "def preprocess_data(X_train, X_test, y_train=None, y_test=None, correlation_threshold=0.9):\n",
        "    \"\"\"\n",
        "    Preprocess the data by scaling features, handling missing values, and dropping highly correlated features.\n",
        "\n",
        "    Parameters:\n",
        "    X_train (DataFrame): Training feature set.\n",
        "    X_test (DataFrame): Test feature set.\n",
        "    y_train (Series, optional): Training labels.\n",
        "    y_test (Series, optional): Test labels.\n",
        "    correlation_threshold (float): Threshold for dropping highly correlated features.\n",
        "\n",
        "    Returns:\n",
        "    X_train_scaled, X_test_scaled: Scaled and preprocessed training and test feature sets.\n",
        "    \"\"\"\n",
        "\n",
        "    # Drop highly correlated features in the training set, display highly correlated features\n",
        "    corr_matrix_train = X_train.corr().abs()\n",
        "    upper = corr_matrix_train.where(np.triu(np.ones(corr_matrix_train.shape), k=1).astype(bool))\n",
        "    to_drop = [column for column in upper.columns if any(upper[column] > correlation_threshold)]\n",
        "    print(f\"Highly correlated features to drop for train set: {to_drop}\")\n",
        "    X_train_reduced = X_train.drop(columns=to_drop)\n",
        "\n",
        "    corr_matrix_test = X_test.corr().abs()\n",
        "    upper = corr_matrix_test.where(np.triu(np.ones(corr_matrix_test.shape), k=1).astype(bool))\n",
        "    to_drop = [column for column in upper.columns if any(upper[column] > correlation_threshold)]\n",
        "    print(f\"Highly correlated features to drop for test set: {to_drop}\")\n",
        "    X_test_reduced = X_test.drop(columns=to_drop)\n",
        "\n",
        "    numeric_features = X_train_reduced.select_dtypes(include=['float64', 'int64'])  # Select numeric features\n",
        "    numeric_columns = numeric_features.columns\n",
        "    discrete_features = [feature for feature in numeric_columns if len(X_df[feature].unique()) < 100]\n",
        "    continuous_features = [feature for feature in numeric_columns if feature not in discrete_features]\n",
        "\n",
        "    scaler = StandardScaler()\n",
        "    X_train_scaled = X_train_reduced.copy()\n",
        "    X_train_scaled[continuous_features] = scaler.fit_transform(X_train_reduced[continuous_features])\n",
        "    X_test_scaled = X_test_reduced.copy()\n",
        "    X_test_scaled[continuous_features] = scaler.transform(X_test_reduced[continuous_features])\n",
        "\n",
        "    return X_train_scaled, X_test_scaled"
      ]
    },
    {
      "cell_type": "code",
      "execution_count": null,
      "metadata": {
        "id": "FFq7LFHdXDXi"
      },
      "outputs": [],
      "source": [
        "def augment_data(X_train, y_train):\n",
        "    \"\"\"\n",
        "    Augment the training data using SMOTE.\n",
        "\n",
        "    Parameters:\n",
        "    X_train (array-like): Training feature set.\n",
        "    y_train (array-like): Training labels.\n",
        "\n",
        "    Returns:\n",
        "    X_train_resampled, y_train_resampled: Augmented training feature set and labels.\n",
        "    \"\"\"\n",
        "    if len(np.unique(y_train)) > 1:  # Check if there is more than one class\n",
        "        smote = SMOTE(random_state=42)\n",
        "        X_train_resampled, y_train_resampled = smote.fit_resample(X_train, y_train)\n",
        "        return X_train_resampled, y_train_resampled\n",
        "    else:\n",
        "        # If there's only one class, return the original data\n",
        "        print(\"SMOTE not applied, only one class present.\")\n",
        "        return X_train, y_train"
      ]
    },
    {
      "cell_type": "code",
      "execution_count": null,
      "metadata": {
        "id": "yhPRUDwrr_md"
      },
      "outputs": [],
      "source": []
    },
    {
      "cell_type": "code",
      "execution_count": null,
      "metadata": {
        "colab": {
          "base_uri": "https://localhost:8080/"
        },
        "id": "01iQmbIfXDVE",
        "outputId": "c25db81b-3f06-4778-9923-5307dc682bde"
      },
      "outputs": [
        {
          "output_type": "stream",
          "name": "stdout",
          "text": [
            "Highly correlated features to drop for train set: ['bso1']\n",
            "Highly correlated features to drop for test set: ['bso1']\n",
            "Fold 0 preprocessing complete\n",
            "(1250000, 17)\n",
            "(1250000, 17)\n",
            "Fold 0 augmentation complete\n",
            "Augmented Train Data Shape: (2462000, 17)\n",
            "Augmented Train Labels Shape: (2462000,)\n",
            "\n",
            "\n",
            "Highly correlated features to drop for train set: ['bso1']\n",
            "Highly correlated features to drop for test set: ['bso1']\n",
            "Fold 1 preprocessing complete\n",
            "(2500000, 17)\n",
            "(1250000, 17)\n",
            "Fold 1 augmentation complete\n",
            "Augmented Train Data Shape: (4846200, 17)\n",
            "Augmented Train Labels Shape: (4846200,)\n",
            "\n",
            "\n",
            "Highly correlated features to drop for train set: ['bso1']\n",
            "Highly correlated features to drop for test set: ['bso1']\n",
            "Fold 2 preprocessing complete\n",
            "(3750000, 17)\n",
            "(1250000, 17)\n",
            "Fold 2 augmentation complete\n",
            "Augmented Train Data Shape: (7237600, 17)\n",
            "Augmented Train Labels Shape: (7237600,)\n",
            "\n",
            "\n"
          ]
        }
      ],
      "source": [
        "# Preprocess and augment the data for each fold\n",
        "X_train_scaled, X_test_scaled = {}, {}\n",
        "y_train_scaled, y_test_scaled = {}, {}\n",
        "X_train_augmented, y_train_augmented = {}, {}\n",
        "\n",
        "for fold, (train_index, test_index) in enumerate(tscv.split(X_df)):\n",
        "    X_train, X_test = X_df.iloc[train_index], X_df.iloc[test_index]\n",
        "    y_train, y_test = y_df.iloc[train_index], y_df.iloc[test_index]\n",
        "\n",
        "    # Preprocess the data\n",
        "    X_train_scaled[fold], X_test_scaled[fold] = preprocess_data(X_train, X_test, y_train, y_test)\n",
        "    y_train_scaled[fold], y_test_scaled[fold] = y_train, y_test\n",
        "\n",
        "    print(f\"Fold {fold} preprocessing complete\")\n",
        "    print(X_train_scaled[fold].shape)\n",
        "    print(X_test_scaled[fold].shape)\n",
        "\n",
        "    # Augment the training data\n",
        "    X_train_augmented[fold], y_train_augmented[fold] = augment_data(X_train_scaled[fold], y_train_scaled[fold])\n",
        "\n",
        "    # Print shapes of the augmented training data\n",
        "    print(f\"Fold {fold} augmentation complete\")\n",
        "    print(f\"Augmented Train Data Shape: {X_train_augmented[fold].shape}\")\n",
        "    print(f\"Augmented Train Labels Shape: {y_train_augmented[fold].shape}\")\n",
        "    print(\"\\n\")"
      ]
    },
    {
      "cell_type": "code",
      "execution_count": null,
      "metadata": {
        "id": "H8py6UhUr_jn"
      },
      "outputs": [],
      "source": [
        "X_train = X_train_augmented\n",
        "y_train = y_train_augmented\n",
        "\n",
        "X_test = X_test_scaled\n",
        "y_test = y_test_scaled"
      ]
    },
    {
      "cell_type": "markdown",
      "metadata": {
        "id": "fnto9SvYswQQ"
      },
      "source": [
        "LSTM"
      ]
    },
    {
      "cell_type": "code",
      "execution_count": null,
      "metadata": {
        "colab": {
          "base_uri": "https://localhost:8080/"
        },
        "id": "BhvpEmcsrGWq",
        "outputId": "f9f8b395-2684-4f3f-97c3-412668d07eae"
      },
      "outputs": [
        {
          "name": "stdout",
          "output_type": "stream",
          "text": [
            "Fold 0 class distribution after SMOTE:\n",
            "y\n",
            "0.0    1231000\n",
            "1.0    1231000\n",
            "Name: count, dtype: int64\n",
            "\n",
            "Fold 1 class distribution after SMOTE:\n",
            "y\n",
            "0.0    2423100\n",
            "1.0    2423100\n",
            "Name: count, dtype: int64\n",
            "\n",
            "Fold 2 class distribution after SMOTE:\n",
            "y\n",
            "0.0    3618800\n",
            "1.0    3618800\n",
            "Name: count, dtype: int64\n",
            "\n"
          ]
        }
      ],
      "source": [
        "# Check for class balance in each fold's augmented training set\n",
        "for fold in range(n_splits):\n",
        "    class_distribution = y_train[fold].value_counts()\n",
        "    print(f\"Fold {fold} class distribution after SMOTE:\\n{class_distribution}\\n\")"
      ]
    },
    {
      "cell_type": "code",
      "execution_count": null,
      "metadata": {
        "id": "UeXoioVGrGTT"
      },
      "outputs": [],
      "source": []
    },
    {
      "cell_type": "code",
      "execution_count": null,
      "metadata": {
        "colab": {
          "background_save": true,
          "base_uri": "https://localhost:8080/"
        },
        "id": "oRXQjD_QPZSj",
        "outputId": "235d4617-635e-416b-d8fd-627cd6750074"
      },
      "outputs": [
        {
          "name": "stdout",
          "output_type": "stream",
          "text": [
            "Fold 0 data shapes - X_train: (2461951, 50, 16), y_train: (2461951,)\n",
            "Fold 0 data shapes - X_test: (1249951, 50, 16), y_test: (1249951,)\n",
            "Fold 1 data shapes - X_train: (4846151, 50, 16), y_train: (4846151,)\n",
            "Fold 1 data shapes - X_test: (1249951, 50, 16), y_test: (1249951,)\n",
            "Fold 2 data shapes - X_train: (7237551, 50, 16), y_train: (7237551,)\n",
            "Fold 2 data shapes - X_test: (1249951, 50, 16), y_test: (1249951,)\n",
            "\n",
            "Training LSTM model for Fold 0...\n",
            "Model: \"sequential\"\n",
            "_________________________________________________________________\n",
            " Layer (type)                Output Shape              Param #   \n",
            "=================================================================\n",
            " lstm (LSTM)                 (None, 64)                20736     \n",
            "                                                                 \n",
            " dense (Dense)               (None, 1)                 65        \n",
            "                                                                 \n",
            "=================================================================\n",
            "Total params: 20801 (81.25 KB)\n",
            "Trainable params: 20801 (81.25 KB)\n",
            "Non-trainable params: 0 (0.00 Byte)\n",
            "_________________________________________________________________\n",
            "Epoch 1/5\n",
            "69243/69243 [==============================] - 1212s 17ms/step - loss: 0.0102 - accuracy: 0.9971 - val_loss: 9.8610e-06 - val_accuracy: 1.0000\n",
            "Epoch 2/5\n",
            "69243/69243 [==============================] - 1193s 17ms/step - loss: 0.0032 - accuracy: 0.9990 - val_loss: 1.7499e-05 - val_accuracy: 1.0000\n",
            "Epoch 3/5\n",
            "69243/69243 [==============================] - 1214s 18ms/step - loss: 0.0019 - accuracy: 0.9994 - val_loss: 1.2373e-05 - val_accuracy: 1.0000\n",
            "Epoch 4/5\n",
            "69243/69243 [==============================] - 1206s 17ms/step - loss: 0.0014 - accuracy: 0.9996 - val_loss: 1.9377e-06 - val_accuracy: 1.0000\n",
            "Epoch 5/5\n",
            "69243/69243 [==============================] - 1204s 17ms/step - loss: 0.0012 - accuracy: 0.9997 - val_loss: 3.1122e-06 - val_accuracy: 1.0000\n",
            "Fold 0 LSTM model trained.\n",
            "\n",
            "\n",
            "Training LSTM model for Fold 1...\n",
            "Model: \"sequential_1\"\n",
            "_________________________________________________________________\n",
            " Layer (type)                Output Shape              Param #   \n",
            "=================================================================\n",
            " lstm_1 (LSTM)               (None, 64)                20736     \n",
            "                                                                 \n",
            " dense_1 (Dense)             (None, 1)                 65        \n",
            "                                                                 \n",
            "=================================================================\n",
            "Total params: 20801 (81.25 KB)\n",
            "Trainable params: 20801 (81.25 KB)\n",
            "Non-trainable params: 0 (0.00 Byte)\n",
            "_________________________________________________________________\n",
            "Epoch 1/5\n",
            "136298/136298 [==============================] - 2400s 18ms/step - loss: 0.0240 - accuracy: 0.9933 - val_loss: 3.8455e-06 - val_accuracy: 1.0000\n",
            "Epoch 2/5\n",
            "136298/136298 [==============================] - 2388s 18ms/step - loss: 0.0073 - accuracy: 0.9978 - val_loss: 8.1969e-05 - val_accuracy: 1.0000\n",
            "Epoch 3/5\n",
            "136298/136298 [==============================] - 2379s 17ms/step - loss: 0.0048 - accuracy: 0.9986 - val_loss: 1.3129e-05 - val_accuracy: 1.0000\n",
            "Epoch 4/5\n",
            "136298/136298 [==============================] - 2381s 17ms/step - loss: 0.0041 - accuracy: 0.9988 - val_loss: 2.2376e-05 - val_accuracy: 1.0000\n",
            "Fold 1 LSTM model trained.\n",
            "\n",
            "\n",
            "Training LSTM model for Fold 2...\n",
            "Model: \"sequential_2\"\n",
            "_________________________________________________________________\n",
            " Layer (type)                Output Shape              Param #   \n",
            "=================================================================\n",
            " lstm_2 (LSTM)               (None, 64)                20736     \n",
            "                                                                 \n",
            " dense_2 (Dense)             (None, 1)                 65        \n",
            "                                                                 \n",
            "=================================================================\n",
            "Total params: 20801 (81.25 KB)\n",
            "Trainable params: 20801 (81.25 KB)\n",
            "Non-trainable params: 0 (0.00 Byte)\n",
            "_________________________________________________________________\n",
            "Epoch 1/5\n",
            " 60201/203557 [=======>......................] - ETA: 38:46 - loss: 0.0458 - accuracy: 0.9882"
          ]
        }
      ],
      "source": [
        "# Import necessary libraries\n",
        "import numpy as np\n",
        "import pandas as pd\n",
        "import matplotlib.pyplot as plt\n",
        "from sklearn.model_selection import TimeSeriesSplit\n",
        "from sklearn.preprocessing import StandardScaler\n",
        "from imblearn.over_sampling import SMOTE\n",
        "from tensorflow.keras.models import Sequential\n",
        "from tensorflow.keras.layers import LSTM, Dense\n",
        "from sklearn.metrics import classification_report, precision_score, recall_score, f1_score, accuracy_score\n",
        "import tensorflow as tf\n",
        "\n",
        "# Suppress warnings\n",
        "import warnings\n",
        "warnings.filterwarnings(\"ignore\")\n",
        "\n",
        "# Load data\n",
        "path = \"drive/MyDrive/\"\n",
        "df = pd.read_csv(f'{path}data.csv')\n",
        "df = df.drop('timestamp', axis=1)\n",
        "\n",
        "# Split data into features and labels\n",
        "X_df = df.drop(['y', 'category'], axis=1)\n",
        "y_df = df['y']\n",
        "\n",
        "# Initialize TimeSeriesSplit\n",
        "n_splits = 3\n",
        "tscv = TimeSeriesSplit(n_splits=n_splits)\n",
        "\n",
        "# Preprocessing function\n",
        "def preprocess_data(X_train, X_test, correlation_threshold=0.9):\n",
        "    # Drop highly correlated features\n",
        "    corr_matrix = X_train.corr().abs()\n",
        "    upper = corr_matrix.where(np.triu(np.ones(corr_matrix.shape), k=1).astype(bool))\n",
        "    to_drop = [column for column in upper.columns if any(upper[column] > correlation_threshold)]\n",
        "    X_train_reduced = X_train.drop(columns=to_drop)\n",
        "    X_test_reduced = X_test.drop(columns=to_drop)\n",
        "\n",
        "    # Scale continuous features\n",
        "    scaler = StandardScaler()\n",
        "    continuous_features = X_train_reduced.select_dtypes(include=['float64', 'int64']).columns\n",
        "    X_train_reduced[continuous_features] = scaler.fit_transform(X_train_reduced[continuous_features])\n",
        "    X_test_reduced[continuous_features] = scaler.transform(X_test_reduced[continuous_features])\n",
        "\n",
        "    return X_train_reduced, X_test_reduced\n",
        "\n",
        "# Augmentation function\n",
        "def augment_data(X_train, y_train):\n",
        "    smote = SMOTE(random_state=42)\n",
        "    X_train_resampled, y_train_resampled = smote.fit_resample(X_train, y_train)\n",
        "    return X_train_resampled, y_train_resampled\n",
        "\n",
        "# Function to create sliding windows\n",
        "def create_windows(X, y, window_size=50):\n",
        "    X_windows, y_windows = [], []\n",
        "    for i in range(len(X) - window_size + 1):\n",
        "        X_windows.append(X[i:i+window_size])\n",
        "        y_windows.append(y[i + window_size - 1])  # Use the last label as target\n",
        "    return np.array(X_windows), np.array(y_windows)\n",
        "\n",
        "# Preprocess, augment, and window data for each fold\n",
        "X_train_windows, y_train_windows = {}, {}\n",
        "X_test_windows, y_test_windows = {}, {}\n",
        "\n",
        "for fold, (train_index, test_index) in enumerate(tscv.split(X_df)):\n",
        "    # Split data into train and test\n",
        "    X_train, X_test = X_df.iloc[train_index], X_df.iloc[test_index]\n",
        "    y_train, y_test = y_df.iloc[train_index], y_df.iloc[test_index]\n",
        "\n",
        "    # Preprocess the data\n",
        "    X_train_scaled, X_test_scaled = preprocess_data(X_train, X_test)\n",
        "\n",
        "    # Augment the training data\n",
        "    X_train_augmented, y_train_augmented = augment_data(X_train_scaled, y_train)\n",
        "\n",
        "    # Convert to numpy arrays and create windows\n",
        "    X_train_windows[fold], y_train_windows[fold] = create_windows(X_train_augmented.to_numpy(), y_train_augmented.to_numpy(), window_size=50)\n",
        "    X_test_windows[fold], y_test_windows[fold] = create_windows(X_test_scaled.to_numpy(), y_test.to_numpy(), window_size=50)\n",
        "\n",
        "    print(f\"Fold {fold} data shapes - X_train: {X_train_windows[fold].shape}, y_train: {y_train_windows[fold].shape}\")\n",
        "    print(f\"Fold {fold} data shapes - X_test: {X_test_windows[fold].shape}, y_test: {y_test_windows[fold].shape}\")\n",
        "\n",
        "# Function to train an LSTM\n",
        "def train_lstm(X_train, y_train, X_val, y_val, n_units=64, n_epochs=5, batch_size=32):\n",
        "    model = Sequential([\n",
        "        LSTM(n_units, input_shape=(X_train.shape[1], X_train.shape[2]), return_sequences=False),\n",
        "        Dense(1, activation='sigmoid')\n",
        "    ])\n",
        "    model.compile(loss='binary_crossentropy', optimizer='adam', metrics=['accuracy'])\n",
        "\n",
        "    # Display model summary\n",
        "    model.summary()\n",
        "\n",
        "    # Early stopping callback\n",
        "    early_stopping = tf.keras.callbacks.EarlyStopping(monitor='val_loss', patience=3, restore_best_weights=True)\n",
        "\n",
        "    # Train model\n",
        "    history = model.fit(X_train, y_train, epochs=n_epochs, batch_size=batch_size, validation_data=(X_val, y_val), callbacks=[early_stopping], verbose=1)\n",
        "    return model, history\n",
        "\n",
        "# Train LSTM model on each fold's data\n",
        "lstm_models = {}\n",
        "lstm_histories = {}\n",
        "\n",
        "for fold in range(n_splits):\n",
        "    # Use 90% of the train data for training and 10% for validation\n",
        "    n_train = int(0.9 * len(X_train_windows[fold]))\n",
        "    X_train_fold, X_val_fold = X_train_windows[fold][:n_train], X_train_windows[fold][n_train:]\n",
        "    y_train_fold, y_val_fold = y_train_windows[fold][:n_train], y_train_windows[fold][n_train:]\n",
        "\n",
        "    print(f\"\\nTraining LSTM model for Fold {fold}...\")\n",
        "    lstm_models[fold], lstm_histories[fold] = train_lstm(X_train_fold, y_train_fold, X_val_fold, y_val_fold)\n",
        "    print(f\"Fold {fold} LSTM model trained.\\n\")\n",
        "\n",
        "# Plot training and validation loss and accuracy for each fold\n",
        "for fold in range(n_splits):\n",
        "    history = lstm_histories[fold]\n",
        "    plt.figure(figsize=(12, 6))\n",
        "\n",
        "    # Plot loss\n",
        "    plt.subplot(1, 2, 1)\n",
        "    plt.plot(history.history['loss'], label='Training Loss')\n",
        "    plt.plot(history.history['val_loss'], label='Validation Loss')\n",
        "    plt.title(f'Fold {fold} Loss')\n",
        "    plt.xlabel('Epoch')\n",
        "    plt.ylabel('Loss')\n",
        "    plt.legend()\n",
        "\n",
        "    # Plot accuracy\n",
        "    plt.subplot(1, 2, 2)\n",
        "    plt.plot(history.history['accuracy'], label='Training Accuracy')\n",
        "    plt.plot(history.history['val_accuracy'], label='Validation Accuracy')\n",
        "    plt.title(f'Fold {fold} Accuracy')\n",
        "    plt.xlabel('Epoch')\n",
        "    plt.ylabel('Accuracy')\n",
        "    plt.legend()\n",
        "\n",
        "    plt.tight_layout()\n",
        "    plt.show()\n",
        "\n",
        "# Evaluate the models and calculate metrics\n",
        "for fold in range(n_splits):\n",
        "    print(f\"Evaluating Fold {fold} LSTM model...\")\n",
        "    y_pred = lstm_models[fold].predict(X_test_windows[fold])\n",
        "    y_pred_classes = (y_pred > 0.5).astype(int).flatten()  # Convert probabilities to binary labels\n",
        "\n",
        "    # Calculate metrics\n",
        "    precision = precision_score(y_test_windows[fold], y_pred_classes)\n",
        "    recall = recall_score(y_test_windows[fold], y_pred_classes)\n",
        "    f1 = f1_score(y_test_windows[fold], y_pred_classes)\n",
        "    accuracy = accuracy_score(y_test_windows[fold], y_pred_classes)\n",
        "\n",
        "    print(f\"Fold {fold} Metrics:\")\n",
        "    print(f\"Precision: {precision:.4f}, Recall: {recall:.4f}, F1-Score: {f1:.4f}, Accuracy: {accuracy:.4f}\")\n",
        "    print(f\"Classification Report for Fold {fold}:\")\n",
        "    print(classification_report(y_test_windows[fold], y_pred_classes))\n"
      ]
    },
    {
      "cell_type": "code",
      "execution_count": null,
      "metadata": {
        "id": "REmJR3DwWmWi"
      },
      "outputs": [],
      "source": [
        "from sklearn.metrics import roc_curve, roc_auc_score\n",
        "import matplotlib.pyplot as plt\n",
        "\n",
        "# Initialize lists to store AUC scores for each fold\n",
        "all_auc = []\n",
        "\n",
        "# Plot ROC curve for each fold\n",
        "plt.figure(figsize=(10, 7))\n",
        "for fold in range(n_splits):\n",
        "    # Get true labels and predicted probabilities for the fold\n",
        "    y_true = y_test_windows[fold]\n",
        "    y_pred_probs = lstm_models[fold].predict(X_test_windows[fold]).flatten()  # Probabilities\n",
        "\n",
        "    # Calculate ROC curve\n",
        "    fpr, tpr, thresholds = roc_curve(y_true, y_pred_probs)\n",
        "\n",
        "    # Calculate AUC\n",
        "    auc = roc_auc_score(y_true, y_pred_probs)\n",
        "    all_auc.append(auc)\n",
        "\n",
        "    # Plot ROC curve\n",
        "    plt.plot(fpr, tpr, label=f'Fold {fold} (AUC = {auc:.4f})')\n",
        "\n",
        "# Plot average ROC curve\n",
        "plt.plot([0, 1], [0, 1], linestyle='--', color='gray', label='Random Guess')\n",
        "plt.title('ROC Curve Across Folds')\n",
        "plt.xlabel('False Positive Rate')\n",
        "plt.ylabel('True Positive Rate')\n",
        "plt.legend()\n",
        "plt.show()\n",
        "\n",
        "# Calculate average AUC\n",
        "average_auc = np.mean(all_auc)\n",
        "print(f\"Average AUC Across Folds: {average_auc:.4f}\")\n"
      ]
    },
    {
      "cell_type": "code",
      "execution_count": null,
      "metadata": {
        "id": "YDMAeRJ-uXcb"
      },
      "outputs": [],
      "source": [
        "# Initialize lists to store metrics for each fold\n",
        "precision_scores = []\n",
        "recall_scores = []\n",
        "f1_scores = []\n",
        "accuracy_scores = []\n",
        "\n",
        "# Collect metrics from each fold\n",
        "for fold in range(n_splits):\n",
        "    y_pred = lstm_models[fold].predict(X_test_windows[fold])\n",
        "    y_pred_classes = (y_pred > 0.5).astype(int).flatten()  # Convert probabilities to binary labels\n",
        "\n",
        "    # Append metrics to the respective lists\n",
        "    precision_scores.append(precision_score(y_test_windows[fold], y_pred_classes))\n",
        "    recall_scores.append(recall_score(y_test_windows[fold], y_pred_classes))\n",
        "    f1_scores.append(f1_score(y_test_windows[fold], y_pred_classes))\n",
        "    accuracy_scores.append(accuracy_score(y_test_windows[fold], y_pred_classes))\n",
        "\n",
        "# Calculate average metrics\n",
        "avg_precision = np.mean(precision_scores)\n",
        "avg_recall = np.mean(recall_scores)\n",
        "avg_f1 = np.mean(f1_scores)\n",
        "avg_accuracy = np.mean(accuracy_scores)\n",
        "\n",
        "# Display the average metrics\n",
        "print(\"\\nAverage Metrics Across All Folds:\")\n",
        "print(f\"Precision: {avg_precision:.4f}\")\n",
        "print(f\"Recall: {avg_recall:.4f}\")\n",
        "print(f\"F1-Score: {avg_f1:.4f}\")\n",
        "print(f\"Accuracy: {avg_accuracy:.4f}\")\n"
      ]
    },
    {
      "cell_type": "markdown",
      "metadata": {
        "id": "K0T2zwCstWUs"
      },
      "source": []
    },
    {
      "cell_type": "code",
      "execution_count": null,
      "metadata": {
        "id": "nSLJGLdxtFsq"
      },
      "outputs": [],
      "source": []
    },
    {
      "cell_type": "markdown",
      "source": [
        "Autoenocoder"
      ],
      "metadata": {
        "id": "--ox8v4chCYu"
      }
    },
    {
      "cell_type": "code",
      "source": [
        "from sklearn.preprocessing import StandardScaler\n",
        "\n",
        "scaler = StandardScaler()\n",
        "X_scaled = scaler.fit_transform(X_df)\n"
      ],
      "metadata": {
        "id": "zYSv30AjhET5"
      },
      "execution_count": null,
      "outputs": []
    },
    {
      "cell_type": "code",
      "source": [
        "import pandas as pd\n",
        "# Convert back to a DataFrame (optional, for better readability)\n",
        "X_scaled_df = pd.DataFrame(X_scaled, columns=X_df.columns)\n",
        "\n",
        "# Check the first few rows\n",
        "print(X_scaled_df.head())\n",
        "\n",
        "# Verify mean and standard deviation\n",
        "print(\"Mean:\", X_scaled_df.mean())\n",
        "print(\"Std Dev:\", X_scaled_df.std())\n"
      ],
      "metadata": {
        "colab": {
          "base_uri": "https://localhost:8080/"
        },
        "id": "uXXY91FVhfnC",
        "outputId": "b85e967b-0f5d-4e36-80f4-80b894b8e022"
      },
      "execution_count": null,
      "outputs": [
        {
          "output_type": "stream",
          "name": "stdout",
          "text": [
            "      aimp      amud      arnd     asin1     asin2     adbr      adfl  \\\n",
            "0 -0.10074  0.245509 -0.037420 -0.001943 -0.000619 -1.00289 -1.237048   \n",
            "1 -0.10074  0.245509 -0.029447 -0.001915 -0.000336 -1.00289 -1.237048   \n",
            "2 -0.10074  0.245509 -0.009867 -0.001886 -0.000053 -1.00289 -1.237048   \n",
            "3 -0.10074  0.245509  0.035402 -0.001858  0.000230 -1.00289 -1.237048   \n",
            "4 -0.10074  0.245509  0.073974 -0.001830  0.000513 -1.00289 -1.237048   \n",
            "\n",
            "       bed1      bed2      bfo1      bfo2      bso1      bso2      bso3  \\\n",
            "0 -1.397187 -0.622837 -0.941396 -3.019169  0.161648 -0.866792 -2.800477   \n",
            "1 -1.397187 -0.622837 -0.941396 -3.019169  0.161711 -0.866792 -2.800477   \n",
            "2 -1.397187 -0.622837 -0.941396 -3.019169  0.161896 -0.866792 -2.800477   \n",
            "3 -1.397187 -0.622837 -0.941396 -3.019169  0.162197 -0.866792 -2.800477   \n",
            "4 -1.397187 -0.622837 -0.941396 -3.019169  0.162610 -0.866792 -2.800477   \n",
            "\n",
            "       ced1      cfo1      cso1  category  \n",
            "0 -2.508759  0.580632 -2.418272  -0.17352  \n",
            "1 -2.508759  0.580633 -2.418204  -0.17352  \n",
            "2 -2.508759  0.580638 -2.418005  -0.17352  \n",
            "3 -2.508759  0.580650 -2.417682  -0.17352  \n",
            "4 -2.508759  0.580670 -2.417242  -0.17352  \n",
            "Mean: aimp       -5.042011e-18\n",
            "amud       -3.510650e-17\n",
            "arnd        9.441464e-16\n",
            "asin1       3.110472e-17\n",
            "asin2       2.501110e-17\n",
            "adbr        1.803073e-16\n",
            "adfl       -1.519993e-17\n",
            "bed1        3.714831e-16\n",
            "bed2       -4.863523e-16\n",
            "bfo1        1.615035e-16\n",
            "bfo2        7.210019e-16\n",
            "bso1        9.713403e-17\n",
            "bso2       -7.084225e-16\n",
            "bso3        6.905793e-16\n",
            "ced1        2.828438e-15\n",
            "cfo1       -8.176357e-17\n",
            "cso1        3.965306e-15\n",
            "category   -8.014922e-17\n",
            "dtype: float64\n",
            "Std Dev: aimp        1.0\n",
            "amud        1.0\n",
            "arnd        1.0\n",
            "asin1       1.0\n",
            "asin2       1.0\n",
            "adbr        1.0\n",
            "adfl        1.0\n",
            "bed1        1.0\n",
            "bed2        1.0\n",
            "bfo1        1.0\n",
            "bfo2        1.0\n",
            "bso1        1.0\n",
            "bso2        1.0\n",
            "bso3        1.0\n",
            "ced1        1.0\n",
            "cfo1        1.0\n",
            "cso1        1.0\n",
            "category    1.0\n",
            "dtype: float64\n"
          ]
        }
      ]
    },
    {
      "cell_type": "code",
      "source": [
        "from sklearn.model_selection import train_test_split\n",
        "\n",
        "X_train, X_test = train_test_split(X_scaled, test_size=0.2, random_state=42)\n",
        "\n",
        "print(\"Training set shape:\", X_train.shape)\n",
        "print(\"Testing set shape:\", X_test.shape)\n"
      ],
      "metadata": {
        "colab": {
          "base_uri": "https://localhost:8080/"
        },
        "id": "qTLSjI1Lhp7f",
        "outputId": "1262e0e0-5855-47a2-babe-29d838f71a35"
      },
      "execution_count": null,
      "outputs": [
        {
          "output_type": "stream",
          "name": "stdout",
          "text": [
            "Training set shape: (4000000, 18)\n",
            "Testing set shape: (1000000, 18)\n"
          ]
        }
      ]
    },
    {
      "cell_type": "code",
      "source": [
        "from tensorflow.keras.models import Model\n",
        "from tensorflow.keras.layers import Input, Dense\n",
        "\n",
        "# Define the autoencoder architecture\n",
        "input_dim = X_train.shape[1]\n",
        "encoding_dim = 10  # Dimensionality of the encoded space\n",
        "\n",
        "# Input layer\n",
        "input_layer = Input(shape=(input_dim,))\n",
        "# Encoding layers\n",
        "encoded = Dense(encoding_dim, activation='relu')(input_layer)\n",
        "# Decoding layers\n",
        "decoded = Dense(input_dim, activation='linear')(encoded)\n",
        "\n",
        "# Build the autoencoder model\n",
        "autoencoder = Model(input_layer, decoded)\n",
        "\n",
        "# Print model summary\n",
        "print(\"Autoencoder Model Summary:\")\n",
        "autoencoder.summary()\n",
        "\n",
        "# Compile the model\n",
        "autoencoder.compile(optimizer='adam', loss='mse')\n",
        "\n",
        "# Train the autoencoder\n",
        "history = autoencoder.fit(X_train, X_train,\n",
        "                          epochs=50,\n",
        "                          batch_size=32,\n",
        "                          shuffle=True,\n",
        "                          validation_data=(X_test, X_test))\n",
        "\n",
        "# Visualize training loss\n",
        "import matplotlib.pyplot as plt\n",
        "\n",
        "plt.plot(history.history['loss'], label='Training Loss')\n",
        "plt.plot(history.history['val_loss'], label='Validation Loss')\n",
        "plt.xlabel('Epochs')\n",
        "plt.ylabel('Loss')\n",
        "plt.legend()\n",
        "plt.show()\n",
        "\n"
      ],
      "metadata": {
        "colab": {
          "base_uri": "https://localhost:8080/",
          "height": 1000
        },
        "id": "q3ywd_TbhqrI",
        "outputId": "a3fad152-7f1e-4bbe-81c7-470c8402d5f4"
      },
      "execution_count": null,
      "outputs": [
        {
          "output_type": "stream",
          "name": "stdout",
          "text": [
            "Autoencoder Model Summary:\n",
            "Model: \"model_1\"\n",
            "_________________________________________________________________\n",
            " Layer (type)                Output Shape              Param #   \n",
            "=================================================================\n",
            " input_2 (InputLayer)        [(None, 18)]              0         \n",
            "                                                                 \n",
            " dense_2 (Dense)             (None, 10)                190       \n",
            "                                                                 \n",
            " dense_3 (Dense)             (None, 18)                198       \n",
            "                                                                 \n",
            "=================================================================\n",
            "Total params: 388 (1.52 KB)\n",
            "Trainable params: 388 (1.52 KB)\n",
            "Non-trainable params: 0 (0.00 Byte)\n",
            "_________________________________________________________________\n",
            "Epoch 1/50\n",
            "125000/125000 [==============================] - 200s 2ms/step - loss: 0.1198 - val_loss: 0.1132\n",
            "Epoch 2/50\n",
            "125000/125000 [==============================] - 196s 2ms/step - loss: 0.1133 - val_loss: 0.1131\n",
            "Epoch 3/50\n",
            "125000/125000 [==============================] - 198s 2ms/step - loss: 0.1132 - val_loss: 0.1128\n",
            "Epoch 4/50\n",
            "125000/125000 [==============================] - 195s 2ms/step - loss: 0.1131 - val_loss: 0.1128\n",
            "Epoch 5/50\n",
            "125000/125000 [==============================] - 191s 2ms/step - loss: 0.1130 - val_loss: 0.1132\n",
            "Epoch 6/50\n",
            "125000/125000 [==============================] - 199s 2ms/step - loss: 0.1129 - val_loss: 0.1126\n",
            "Epoch 7/50\n",
            "125000/125000 [==============================] - 197s 2ms/step - loss: 0.1129 - val_loss: 0.1131\n",
            "Epoch 8/50\n",
            "125000/125000 [==============================] - 200s 2ms/step - loss: 0.1129 - val_loss: 0.1127\n",
            "Epoch 9/50\n",
            "125000/125000 [==============================] - 198s 2ms/step - loss: 0.1128 - val_loss: 0.1131\n",
            "Epoch 10/50\n",
            "125000/125000 [==============================] - 202s 2ms/step - loss: 0.1128 - val_loss: 0.1132\n",
            "Epoch 11/50\n",
            "125000/125000 [==============================] - 196s 2ms/step - loss: 0.1128 - val_loss: 0.1127\n",
            "Epoch 12/50\n",
            "125000/125000 [==============================] - 198s 2ms/step - loss: 0.1128 - val_loss: 0.1127\n",
            "Epoch 13/50\n",
            "125000/125000 [==============================] - 198s 2ms/step - loss: 0.1128 - val_loss: 0.1129\n",
            "Epoch 14/50\n",
            "125000/125000 [==============================] - 198s 2ms/step - loss: 0.1128 - val_loss: 0.1133\n",
            "Epoch 15/50\n",
            "125000/125000 [==============================] - 199s 2ms/step - loss: 0.1128 - val_loss: 0.1127\n",
            "Epoch 16/50\n",
            "125000/125000 [==============================] - 196s 2ms/step - loss: 0.1128 - val_loss: 0.1132\n",
            "Epoch 17/50\n",
            "125000/125000 [==============================] - 200s 2ms/step - loss: 0.1128 - val_loss: 0.1126\n",
            "Epoch 18/50\n",
            "125000/125000 [==============================] - 200s 2ms/step - loss: 0.1128 - val_loss: 0.1129\n",
            "Epoch 19/50\n",
            "125000/125000 [==============================] - 199s 2ms/step - loss: 0.1127 - val_loss: 0.1126\n",
            "Epoch 20/50\n",
            "125000/125000 [==============================] - 199s 2ms/step - loss: 0.1127 - val_loss: 0.1129\n",
            "Epoch 21/50\n",
            "125000/125000 [==============================] - 196s 2ms/step - loss: 0.1127 - val_loss: 0.1125\n",
            "Epoch 22/50\n",
            "125000/125000 [==============================] - 193s 2ms/step - loss: 0.1127 - val_loss: 0.1127\n",
            "Epoch 23/50\n",
            "125000/125000 [==============================] - 195s 2ms/step - loss: 0.1127 - val_loss: 0.1126\n",
            "Epoch 24/50\n",
            "125000/125000 [==============================] - 197s 2ms/step - loss: 0.1127 - val_loss: 0.1124\n",
            "Epoch 25/50\n",
            "125000/125000 [==============================] - 193s 2ms/step - loss: 0.1127 - val_loss: 0.1125\n",
            "Epoch 26/50\n",
            "125000/125000 [==============================] - 196s 2ms/step - loss: 0.1127 - val_loss: 0.1127\n",
            "Epoch 27/50\n",
            "125000/125000 [==============================] - 195s 2ms/step - loss: 0.1127 - val_loss: 0.1124\n",
            "Epoch 28/50\n",
            "125000/125000 [==============================] - 193s 2ms/step - loss: 0.1127 - val_loss: 0.1126\n",
            "Epoch 29/50\n",
            "125000/125000 [==============================] - 196s 2ms/step - loss: 0.1127 - val_loss: 0.1124\n",
            "Epoch 30/50\n",
            "125000/125000 [==============================] - 197s 2ms/step - loss: 0.1127 - val_loss: 0.1125\n",
            "Epoch 31/50\n",
            "125000/125000 [==============================] - 194s 2ms/step - loss: 0.1127 - val_loss: 0.1130\n",
            "Epoch 32/50\n",
            "125000/125000 [==============================] - 198s 2ms/step - loss: 0.1127 - val_loss: 0.1124\n",
            "Epoch 33/50\n",
            "125000/125000 [==============================] - 194s 2ms/step - loss: 0.1127 - val_loss: 0.1125\n",
            "Epoch 34/50\n",
            "125000/125000 [==============================] - 197s 2ms/step - loss: 0.1127 - val_loss: 0.1129\n",
            "Epoch 35/50\n",
            "125000/125000 [==============================] - 199s 2ms/step - loss: 0.1127 - val_loss: 0.1126\n",
            "Epoch 36/50\n",
            "125000/125000 [==============================] - 195s 2ms/step - loss: 0.1127 - val_loss: 0.1128\n",
            "Epoch 37/50\n",
            "125000/125000 [==============================] - 191s 2ms/step - loss: 0.1127 - val_loss: 0.1124\n",
            "Epoch 38/50\n",
            "125000/125000 [==============================] - 199s 2ms/step - loss: 0.1127 - val_loss: 0.1133\n",
            "Epoch 39/50\n",
            "125000/125000 [==============================] - 199s 2ms/step - loss: 0.1127 - val_loss: 0.1131\n",
            "Epoch 40/50\n",
            "125000/125000 [==============================] - 196s 2ms/step - loss: 0.1127 - val_loss: 0.1129\n",
            "Epoch 41/50\n",
            "125000/125000 [==============================] - 196s 2ms/step - loss: 0.1127 - val_loss: 0.1128\n",
            "Epoch 42/50\n",
            "125000/125000 [==============================] - 200s 2ms/step - loss: 0.1127 - val_loss: 0.1126\n",
            "Epoch 43/50\n",
            "125000/125000 [==============================] - 198s 2ms/step - loss: 0.1127 - val_loss: 0.1125\n",
            "Epoch 44/50\n",
            "125000/125000 [==============================] - 196s 2ms/step - loss: 0.1127 - val_loss: 0.1127\n",
            "Epoch 45/50\n",
            "125000/125000 [==============================] - 200s 2ms/step - loss: 0.1127 - val_loss: 0.1127\n",
            "Epoch 46/50\n",
            "125000/125000 [==============================] - 198s 2ms/step - loss: 0.1127 - val_loss: 0.1129\n",
            "Epoch 47/50\n",
            "125000/125000 [==============================] - 195s 2ms/step - loss: 0.1127 - val_loss: 0.1137\n",
            "Epoch 48/50\n",
            "125000/125000 [==============================] - 195s 2ms/step - loss: 0.1127 - val_loss: 0.1127\n",
            "Epoch 49/50\n",
            "125000/125000 [==============================] - 195s 2ms/step - loss: 0.1127 - val_loss: 0.1128\n",
            "Epoch 50/50\n",
            "125000/125000 [==============================] - 194s 2ms/step - loss: 0.1127 - val_loss: 0.1126\n"
          ]
        },
        {
          "output_type": "display_data",
          "data": {
            "text/plain": [
              "<Figure size 640x480 with 1 Axes>"
            ],
            "image/png": "[encoded data removed]"
          },
          "metadata": {}
        }
      ]
    },
    {
      "cell_type": "code",
      "source": [
        "# Get reconstruction (reconstructed data) for training and testing data\n",
        "train_reconstructed = autoencoder.predict(X_train)\n",
        "test_reconstructed = autoencoder.predict(X_test)\n",
        "\n",
        "# Calculate reconstruction error (for anomaly detection)\n",
        "train_reconstruction_error = np.mean(np.abs(X_train - train_reconstructed), axis=1)\n",
        "test_reconstruction_error = np.mean(np.abs(X_test - test_reconstructed), axis=1)\n"
      ],
      "metadata": {
        "colab": {
          "base_uri": "https://localhost:8080/"
        },
        "id": "6kOeFm-fjIB5",
        "outputId": "5a8fbbde-366a-46b6-cc17-0b6873d6924b"
      },
      "execution_count": null,
      "outputs": [
        {
          "output_type": "stream",
          "name": "stdout",
          "text": [
            "125000/125000 [==============================] - 130s 1ms/step\n",
            "31250/31250 [==============================] - 34s 1ms/step\n"
          ]
        }
      ]
    },
    {
      "cell_type": "code",
      "source": [
        "# Get reconstruction (reconstructed data) for training and testing data\n",
        "train_reconstructed = autoencoder.predict(X_train)\n",
        "test_reconstructed = autoencoder.predict(X_test)\n",
        "\n",
        "# Calculate reconstruction error (for anomaly detection)\n",
        "train_reconstruction_error = np.mean(np.abs(X_train - train_reconstructed), axis=1)\n",
        "test_reconstruction_error = np.mean(np.abs(X_test - test_reconstructed), axis=1)\n",
        "\n",
        "# Check the first few reconstruction errors to ensure it's working\n",
        "print(\"Train Reconstruction Error (First 5 samples):\", train_reconstruction_error[:5])\n",
        "print(\"Test Reconstruction Error (First 5 samples):\", test_reconstruction_error[:5])\n"
      ],
      "metadata": {
        "colab": {
          "base_uri": "https://localhost:8080/"
        },
        "id": "0q9q6An6IKSR",
        "outputId": "fb3d3029-c3d9-44ff-b7c5-2bc8726693e8"
      },
      "execution_count": null,
      "outputs": [
        {
          "output_type": "stream",
          "name": "stdout",
          "text": [
            "125000/125000 [==============================] - 138s 1ms/step\n",
            "31250/31250 [==============================] - 35s 1ms/step\n",
            "Train Reconstruction Error (First 5 samples): [0.11093718 0.09664446 0.12359183 0.25135907 0.1324754 ]\n",
            "Test Reconstruction Error (First 5 samples): [0.13720307 0.0629553  0.1390314  0.1524531  0.09070505]\n"
          ]
        }
      ]
    },
    {
      "cell_type": "code",
      "source": [
        "# Set a threshold for anomaly detection (e.g., using the 95th percentile of reconstruction errors)\n",
        "threshold = np.percentile(train_reconstruction_error, 95)\n",
        "\n",
        "# Detect anomalies in the test set\n",
        "test_anomalies = test_reconstruction_error > threshold\n",
        "\n",
        "# Check how many anomalies were detected\n",
        "print(f\"Number of anomalies detected: {np.sum(test_anomalies)}\")\n",
        "\n",
        "\n"
      ],
      "metadata": {
        "colab": {
          "base_uri": "https://localhost:8080/"
        },
        "id": "MCzf5XyxIKE9",
        "outputId": "f18d0719-d338-4b7c-fc4c-5b406e9279eb"
      },
      "execution_count": null,
      "outputs": [
        {
          "output_type": "stream",
          "name": "stdout",
          "text": [
            "Number of anomalies detected: 50517\n"
          ]
        }
      ]
    },
    {
      "cell_type": "code",
      "source": [
        "# Set a higher threshold for anomaly detection (e.g., using the 99th percentile of reconstruction errors)\n",
        "threshold = np.percentile(train_reconstruction_error, 99)\n",
        "\n",
        "# Detect anomalies again with the new threshold\n",
        "test_anomalies = test_reconstruction_error > threshold\n",
        "print(f\"Number of anomalies detected with new threshold: {np.sum(test_anomalies)}\")\n"
      ],
      "metadata": {
        "colab": {
          "base_uri": "https://localhost:8080/"
        },
        "id": "oGh-DOqwKdeM",
        "outputId": "8f4735ee-b3c1-477b-9b37-0f06190b0e99"
      },
      "execution_count": null,
      "outputs": [
        {
          "output_type": "stream",
          "name": "stdout",
          "text": [
            "Number of anomalies detected with new threshold: 10051\n"
          ]
        }
      ]
    },
    {
      "cell_type": "code",
      "source": [
        "plt.hist(train_reconstruction_error, bins=50, alpha=0.7, label=\"Training Reconstruction Errors\")\n",
        "plt.hist(test_reconstruction_error, bins=50, alpha=0.7, label=\"Test Reconstruction Errors\")\n",
        "plt.axvline(x=threshold, color='r', linestyle='--', label=\"Anomaly Threshold\")\n",
        "plt.legend()\n",
        "plt.xlabel('Reconstruction Error')\n",
        "plt.ylabel('Frequency')\n",
        "plt.title('Reconstruction Error Distribution')\n",
        "plt.show()\n"
      ],
      "metadata": {
        "colab": {
          "base_uri": "https://localhost:8080/",
          "height": 472
        },
        "id": "EZReH5pMKda0",
        "outputId": "8bc039ac-c4db-41ac-cdf1-d3421159ee8b"
      },
      "execution_count": null,
      "outputs": [
        {
          "output_type": "display_data",
          "data": {
            "text/plain": [
              "<Figure size 640x480 with 1 Axes>"
            ],
            "image/png": "[encoded data removed]"
          },
          "metadata": {}
        }
      ]
    },
    {
      "cell_type": "code",
      "source": [
        "y_true = np.array([0]*10 + [1]*(len(test_reconstruction_error) - 10))\n"
      ],
      "metadata": {
        "id": "io8J3wqUNGJz"
      },
      "execution_count": null,
      "outputs": []
    },
    {
      "cell_type": "code",
      "source": [
        "# Set the anomaly threshold\n",
        "threshold = 0.2  # Adjust as needed\n",
        "\n",
        "# Find the indices where the reconstruction error exceeds the threshold\n",
        "anomalous_indices = np.where(test_reconstruction_error > threshold)[0]\n",
        "\n",
        "# Create y_true (ground truth labels for anomalies)\n",
        "y_true = np.zeros(len(test_reconstruction_error))  # Assume all normal initially\n",
        "y_true[anomalous_indices] = 1  # Set anomalies to 1\n",
        "\n",
        "# Generate y_pred based on reconstruction error threshold\n",
        "y_pred = (test_reconstruction_error > threshold).astype(int)  # 1 for anomaly, 0 for normal\n",
        "\n",
        "# Ensure y_true and y_pred have the same length\n",
        "assert len(y_true) == len(y_pred), f\"Length mismatch: {len(y_true)} != {len(y_pred)}\"\n",
        "\n",
        "# Calculate confusion matrix\n",
        "from sklearn.metrics import confusion_matrix\n",
        "conf_matrix = confusion_matrix(y_true, y_pred)\n",
        "\n",
        "# Plot confusion matrix\n",
        "import seaborn as sns\n",
        "import matplotlib.pyplot as plt\n",
        "\n",
        "plt.figure(figsize=(6, 5))\n",
        "sns.heatmap(conf_matrix, annot=True, fmt='d', cmap='Blues', xticklabels=['Normal', 'Anomaly'], yticklabels=['Normal', 'Anomaly'])\n",
        "plt.title('Confusion Matrix for Anomaly Detection')\n",
        "plt.xlabel('Predicted Labels')  # Fixed the unterminated string\n",
        "plt.ylabel('True Labels')\n",
        "plt.show()\n",
        "\n",
        "# Breakdown of the confusion matrix\n",
        "TP, FP, FN, TN = conf_matrix.ravel()\n",
        "print(f\"True Positives: {TP}\")\n",
        "print(f\"False Positives: {FP}\")\n",
        "print(f\"False Negatives: {FN}\")\n",
        "print(f\"True Negatives: {TN}\")\n"
      ],
      "metadata": {
        "colab": {
          "base_uri": "https://localhost:8080/",
          "height": 558
        },
        "id": "xQiWmwgqNsNV",
        "outputId": "78634d1e-d604-490f-bb1a-8e11ba38b844"
      },
      "execution_count": null,
      "outputs": [
        {
          "output_type": "display_data",
          "data": {
            "text/plain": [
              "<Figure size 600x500 with 2 Axes>"
            ],
            "image/png": "[encoded data removed]"
          },
          "metadata": {}
        },
        {
          "output_type": "stream",
          "name": "stdout",
          "text": [
            "True Positives: 638270\n",
            "False Positives: 0\n",
            "False Negatives: 0\n",
            "True Negatives: 361730\n"
          ]
        }
      ]
    },
    {
      "cell_type": "code",
      "source": [
        "from sklearn.metrics import confusion_matrix, classification_report, roc_curve, auc\n",
        "import matplotlib.pyplot as plt\n",
        "\n",
        "# Assuming you have y_true (actual labels for anomalies) and test_reconstruction_error\n",
        "\n",
        "# Step 1: Define y_true (ground truth for anomalies)\n",
        "# If you have labels for the test set (0 for normal, 1 for anomaly), use them\n",
        "# For example, if anomalies are marked in y_test:\n",
        "y_true = np.zeros(len(test_reconstruction_error))\n",
        "y_true[anomalous_indices] = 1  # Replace `anomalous_indices` with actual anomaly indices if available\n",
        "\n",
        "# Step 2: Create y_pred based on reconstruction error and threshold\n",
        "threshold = 0.2  # Example threshold value\n",
        "y_pred = (test_reconstruction_error > threshold).astype(int)\n",
        "\n",
        "# Ensure the lengths of y_true and y_pred match\n",
        "assert len(y_true) == len(y_pred), f\"Length mismatch: {len(y_true)} != {len(y_pred)}\"\n",
        "\n",
        "# Step 3: Calculate confusion matrix and other metrics\n",
        "conf_matrix = confusion_matrix(y_true, y_pred)\n",
        "print(\"Confusion Matrix:\")\n",
        "print(conf_matrix)\n",
        "\n",
        "# Classification report\n",
        "print(\"\\nClassification Report:\")\n",
        "print(classification_report(y_true, y_pred))\n",
        "\n",
        "# Step 4: ROC curve and AUC (Area Under the Curve)\n",
        "fpr, tpr, thresholds_roc = roc_curve(y_true, test_reconstruction_error)  # Use reconstruction errors for ROC\n",
        "roc_auc = auc(fpr, tpr)\n",
        "\n",
        "plt.figure()\n",
        "plt.plot(fpr, tpr, color='blue', label=f'ROC curve (area = {roc_auc:.2f})')\n",
        "plt.plot([0, 1], [0, 1], color='gray', linestyle='--')  # Random classifier line\n",
        "plt.xlabel('False Positive Rate')\n",
        "plt.ylabel('True Positive Rate')\n",
        "plt.title('Receiver Operating Characteristic')\n",
        "plt.legend(loc='lower right')\n",
        "plt.show()\n",
        "\n",
        "# Step 5: Plot confusion matrix (optional)\n",
        "import seaborn as sns\n",
        "sns.heatmap(conf_matrix, annot=True, fmt='d', cmap='Blues', xticklabels=['Normal', 'Anomaly'], yticklabels=['Normal', 'Anomaly'])\n",
        "plt.title(\"Confusion Matrix\")\n",
        "plt.xlabel('Predicted')\n",
        "plt.ylabel('True')\n",
        "plt.show()\n"
      ],
      "metadata": {
        "colab": {
          "base_uri": "https://localhost:8080/",
          "height": 1000
        },
        "id": "lezeg9LhNsJ8",
        "outputId": "78e6e700-af62-4e6c-904e-9e0123334110"
      },
      "execution_count": null,
      "outputs": [
        {
          "output_type": "stream",
          "name": "stdout",
          "text": [
            "Confusion Matrix:\n",
            "[[638270      0]\n",
            " [     0 361730]]\n",
            "\n",
            "Classification Report:\n",
            "              precision    recall  f1-score   support\n",
            "\n",
            "         0.0       1.00      1.00      1.00    638270\n",
            "         1.0       1.00      1.00      1.00    361730\n",
            "\n",
            "    accuracy                           1.00   1000000\n",
            "   macro avg       1.00      1.00      1.00   1000000\n",
            "weighted avg       1.00      1.00      1.00   1000000\n",
            "\n"
          ]
        },
        {
          "output_type": "display_data",
          "data": {
            "text/plain": [
              "<Figure size 640x480 with 1 Axes>"
            ],
            "image/png": "[encoded data removed]"
          },
          "metadata": {}
        },
        {
          "output_type": "display_data",
          "data": {
            "text/plain": [
              "<Figure size 640x480 with 2 Axes>"
            ],
            "image/png": "[encoded data removed]"
          },
          "metadata": {}
        }
      ]
    },
    {
      "cell_type": "markdown",
      "source": [
        "Autoencoder with window"
      ],
      "metadata": {
        "id": "iCJSD8bdUdka"
      }
    },
    {
      "cell_type": "code",
      "source": [
        "print(\"X_train type:\", type(X_train))\n",
        "print(\"X_train keys:\", X_train.keys())\n",
        "print(\"X_test type:\", type(X_test))\n",
        "print(\"X_test keys:\", X_test.keys())\n"
      ],
      "metadata": {
        "colab": {
          "base_uri": "https://localhost:8080/"
        },
        "id": "lzdDfyM8V5M-",
        "outputId": "f184be18-db0a-4508-d65e-ca98091cb782"
      },
      "execution_count": null,
      "outputs": [
        {
          "output_type": "stream",
          "name": "stdout",
          "text": [
            "X_train type: <class 'dict'>\n",
            "X_train keys: dict_keys([0, 1, 2])\n",
            "X_test type: <class 'dict'>\n",
            "X_test keys: dict_keys([0, 1, 2])\n"
          ]
        }
      ]
    },
    {
      "cell_type": "code",
      "source": [
        "print(\"X_train[0] type:\", type(X_train[0]))\n",
        "print(\"X_train[0] shape:\", getattr(X_train[0], 'shape', 'Not an array'))\n",
        "print(\"X_train[1] type:\", type(X_train[1]))\n",
        "print(\"X_train[1] shape:\", getattr(X_train[1], 'shape', 'Not an array'))\n"
      ],
      "metadata": {
        "colab": {
          "base_uri": "https://localhost:8080/"
        },
        "id": "NowxQRPNWRrX",
        "outputId": "f680d0c0-c137-45f4-a1c3-d66b5352bccc"
      },
      "execution_count": null,
      "outputs": [
        {
          "output_type": "stream",
          "name": "stdout",
          "text": [
            "X_train[0] type: <class 'pandas.core.frame.DataFrame'>\n",
            "X_train[0] shape: (2462000, 17)\n",
            "X_train[1] type: <class 'pandas.core.frame.DataFrame'>\n",
            "X_train[1] shape: (4846200, 17)\n"
          ]
        }
      ]
    },
    {
      "cell_type": "code",
      "source": [
        "import pandas as pd\n",
        "\n",
        "# Concatenate training DataFrames\n",
        "X_train_combined = pd.concat([X_train[key] for key in X_train.keys()], axis=0)\n",
        "# Concatenate testing DataFrames\n",
        "X_test_combined = pd.concat([X_test[key] for key in X_test.keys()], axis=0)\n",
        "\n",
        "print(\"Combined X_train shape:\", X_train_combined.shape)\n",
        "print(\"Combined X_test shape:\", X_test_combined.shape)\n"
      ],
      "metadata": {
        "colab": {
          "base_uri": "https://localhost:8080/"
        },
        "id": "st3yfZuKWcmU",
        "outputId": "4ff63282-cc7a-4e12-f544-6d3a001c7180"
      },
      "execution_count": null,
      "outputs": [
        {
          "output_type": "stream",
          "name": "stdout",
          "text": [
            "Combined X_train shape: (14545800, 17)\n",
            "Combined X_test shape: (3750000, 17)\n"
          ]
        }
      ]
    },
    {
      "cell_type": "code",
      "source": [
        "import numpy as np\n",
        "\n",
        "window_size = 20\n",
        "\n",
        "def create_windows(data, window_size):\n",
        "    # Ensure data is a NumPy array\n",
        "    data = data.values\n",
        "    return np.array([data[i:i+window_size].flatten() for i in range(len(data) - window_size + 1)])\n",
        "\n",
        "# Apply windowing\n",
        "X_train_windows = create_windows(X_train_combined, window_size)\n",
        "X_test_windows = create_windows(X_test_combined, window_size)\n",
        "\n",
        "print(\"Windowed X_train shape:\", X_train_windows.shape)\n",
        "print(\"Windowed X_test shape:\", X_test_windows.shape)\n",
        "\n"
      ],
      "metadata": {
        "colab": {
          "base_uri": "https://localhost:8080/"
        },
        "id": "BCanXz12Wcfi",
        "outputId": "e33196d4-74cb-4875-c764-bcbda60106a4"
      },
      "execution_count": null,
      "outputs": [
        {
          "output_type": "stream",
          "name": "stdout",
          "text": [
            "Windowed X_train shape: (14545781, 340)\n",
            "Windowed X_test shape: (3749981, 340)\n"
          ]
        }
      ]
    },
    {
      "cell_type": "code",
      "source": [
        "from tensorflow.keras.models import Model\n",
        "from tensorflow.keras.layers import Input, Dense\n",
        "\n",
        "# Define the architecture\n",
        "input_dim = X_train_windows.shape[1]  # 340 features per sample\n",
        "encoding_dim = 50  # Choose the encoding dimension, can be adjusted\n",
        "\n",
        "# Define the autoencoder\n",
        "input_layer = Input(shape=(input_dim,))\n",
        "encoded = Dense(encoding_dim, activation='relu')(input_layer)\n",
        "decoded = Dense(input_dim, activation='linear')(encoded)\n",
        "\n",
        "autoencoder = Model(input_layer, decoded)\n",
        "autoencoder.compile(optimizer='adam', loss='mse')\n",
        "\n",
        "# Train the model\n",
        "history = autoencoder.fit(X_train_windows, X_train_windows,\n",
        "                          epochs=50,  # Adjust number of epochs\n",
        "                          batch_size=64,\n",
        "                          shuffle=True,\n",
        "                          validation_data=(X_test_windows, X_test_windows))\n"
      ],
      "metadata": {
        "colab": {
          "base_uri": "https://localhost:8080/"
        },
        "id": "ldQfRJWYXTtW",
        "outputId": "2d0b3bfa-93c5-4ad9-b4e2-9790944ceaf1"
      },
      "execution_count": null,
      "outputs": [
        {
          "output_type": "stream",
          "name": "stdout",
          "text": [
            "Epoch 1/50\n",
            "227278/227278 [==============================] - 485s 2ms/step - loss: 1.0922 - val_loss: 0.0999\n",
            "Epoch 2/50\n",
            "227278/227278 [==============================] - 467s 2ms/step - loss: 1.0810 - val_loss: 0.1063\n",
            "Epoch 3/50\n",
            "227278/227278 [==============================] - 472s 2ms/step - loss: 1.0806 - val_loss: 0.0983\n",
            "Epoch 4/50\n",
            "227278/227278 [==============================] - 466s 2ms/step - loss: 1.0803 - val_loss: 0.0984\n",
            "Epoch 5/50\n",
            "227278/227278 [==============================] - 467s 2ms/step - loss: 1.0801 - val_loss: 0.1034\n",
            "Epoch 6/50\n",
            "227278/227278 [==============================] - 466s 2ms/step - loss: 1.0799 - val_loss: 0.0986\n",
            "Epoch 7/50\n",
            "227278/227278 [==============================] - 469s 2ms/step - loss: 1.0797 - val_loss: 0.1091\n",
            "Epoch 8/50\n",
            "227278/227278 [==============================] - 469s 2ms/step - loss: 1.0796 - val_loss: 0.0996\n",
            "Epoch 9/50\n",
            "227278/227278 [==============================] - 461s 2ms/step - loss: 1.0795 - val_loss: 0.1048\n",
            "Epoch 10/50\n",
            "227278/227278 [==============================] - 476s 2ms/step - loss: 1.0793 - val_loss: 0.1006\n",
            "Epoch 11/50\n",
            "227278/227278 [==============================] - 466s 2ms/step - loss: 1.0792 - val_loss: 0.1026\n",
            "Epoch 12/50\n",
            "227278/227278 [==============================] - 466s 2ms/step - loss: 1.0791 - val_loss: 0.1048\n",
            "Epoch 13/50\n",
            "227278/227278 [==============================] - 464s 2ms/step - loss: 1.0791 - val_loss: 0.0998\n",
            "Epoch 14/50\n",
            "227278/227278 [==============================] - 466s 2ms/step - loss: 1.0790 - val_loss: 0.1043\n",
            "Epoch 15/50\n",
            "227278/227278 [==============================] - 466s 2ms/step - loss: 1.0790 - val_loss: 0.0996\n",
            "Epoch 16/50\n",
            "227278/227278 [==============================] - 461s 2ms/step - loss: 1.0789 - val_loss: 0.0991\n",
            "Epoch 17/50\n",
            "227278/227278 [==============================] - 458s 2ms/step - loss: 1.0789 - val_loss: 0.0997\n",
            "Epoch 18/50\n",
            "227278/227278 [==============================] - 456s 2ms/step - loss: 1.0789 - val_loss: 0.1001\n",
            "Epoch 19/50\n",
            "227278/227278 [==============================] - 473s 2ms/step - loss: 1.0789 - val_loss: 0.1063\n",
            "Epoch 20/50\n",
            "227278/227278 [==============================] - 468s 2ms/step - loss: 1.0789 - val_loss: 0.0997\n",
            "Epoch 21/50\n",
            "227278/227278 [==============================] - 467s 2ms/step - loss: 1.0789 - val_loss: 0.0990\n",
            "Epoch 22/50\n",
            "227278/227278 [==============================] - 461s 2ms/step - loss: 1.0788 - val_loss: 0.1005\n",
            "Epoch 23/50\n",
            "227278/227278 [==============================] - 463s 2ms/step - loss: 1.0788 - val_loss: 0.0988\n",
            "Epoch 24/50\n",
            "227278/227278 [==============================] - 461s 2ms/step - loss: 1.0788 - val_loss: 0.1009\n",
            "Epoch 25/50\n",
            "227278/227278 [==============================] - 466s 2ms/step - loss: 1.0788 - val_loss: 0.1038\n",
            "Epoch 26/50\n",
            "227278/227278 [==============================] - 470s 2ms/step - loss: 1.0788 - val_loss: 0.1024\n",
            "Epoch 27/50\n",
            "227278/227278 [==============================] - 464s 2ms/step - loss: 1.0788 - val_loss: 0.1025\n",
            "Epoch 28/50\n",
            "227278/227278 [==============================] - 466s 2ms/step - loss: 1.0788 - val_loss: 0.1200\n",
            "Epoch 29/50\n",
            "227278/227278 [==============================] - 468s 2ms/step - loss: 1.0788 - val_loss: 0.0989\n",
            "Epoch 30/50\n",
            "227278/227278 [==============================] - 465s 2ms/step - loss: 1.0788 - val_loss: 0.0992\n",
            "Epoch 31/50\n",
            "227278/227278 [==============================] - 460s 2ms/step - loss: 1.0788 - val_loss: 0.0986\n",
            "Epoch 32/50\n",
            "227278/227278 [==============================] - 468s 2ms/step - loss: 1.0788 - val_loss: 0.1006\n",
            "Epoch 33/50\n",
            "227278/227278 [==============================] - 468s 2ms/step - loss: 1.0787 - val_loss: 0.1025\n",
            "Epoch 34/50\n",
            "227278/227278 [==============================] - 466s 2ms/step - loss: 1.0787 - val_loss: 0.1002\n",
            "Epoch 35/50\n",
            "227278/227278 [==============================] - 467s 2ms/step - loss: 1.0787 - val_loss: 0.1011\n",
            "Epoch 36/50\n",
            "227278/227278 [==============================] - 467s 2ms/step - loss: 1.0787 - val_loss: 0.0989\n",
            "Epoch 37/50\n",
            "227278/227278 [==============================] - 465s 2ms/step - loss: 1.0787 - val_loss: 0.0985\n",
            "Epoch 38/50\n",
            "227278/227278 [==============================] - 458s 2ms/step - loss: 1.0787 - val_loss: 0.0995\n",
            "Epoch 39/50\n",
            "227278/227278 [==============================] - 464s 2ms/step - loss: 1.0787 - val_loss: 0.0973\n",
            "Epoch 40/50\n",
            "227278/227278 [==============================] - 460s 2ms/step - loss: 1.0787 - val_loss: 0.0987\n",
            "Epoch 41/50\n",
            "227278/227278 [==============================] - 464s 2ms/step - loss: 1.0787 - val_loss: 0.1001\n",
            "Epoch 42/50\n",
            "227278/227278 [==============================] - 459s 2ms/step - loss: 1.0787 - val_loss: 0.1002\n",
            "Epoch 43/50\n",
            "227278/227278 [==============================] - 465s 2ms/step - loss: 1.0787 - val_loss: 0.0975\n",
            "Epoch 44/50\n",
            "227278/227278 [==============================] - 466s 2ms/step - loss: 1.0787 - val_loss: 0.1037\n",
            "Epoch 45/50\n",
            "227278/227278 [==============================] - 461s 2ms/step - loss: 1.0787 - val_loss: 0.0987\n",
            "Epoch 46/50\n",
            "227278/227278 [==============================] - 458s 2ms/step - loss: 1.0786 - val_loss: 0.0985\n",
            "Epoch 47/50\n",
            "227278/227278 [==============================] - 470s 2ms/step - loss: 1.0787 - val_loss: 0.0977\n",
            "Epoch 48/50\n",
            "227278/227278 [==============================] - 461s 2ms/step - loss: 1.0786 - val_loss: 0.0988\n",
            "Epoch 49/50\n",
            "227278/227278 [==============================] - 458s 2ms/step - loss: 1.0787 - val_loss: 0.0984\n",
            "Epoch 50/50\n",
            "227278/227278 [==============================] - 467s 2ms/step - loss: 1.0786 - val_loss: 0.0988\n"
          ]
        }
      ]
    },
    {
      "cell_type": "code",
      "source": [
        "import matplotlib.pyplot as plt\n",
        "\n",
        "plt.plot(history.history['loss'], label='Training Loss')\n",
        "plt.plot(history.history['val_loss'], label='Validation Loss')\n",
        "plt.xlabel('Epochs')\n",
        "plt.ylabel('Loss')\n",
        "plt.legend()\n",
        "plt.title('Training and Validation Loss')\n",
        "plt.show()\n"
      ],
      "metadata": {
        "colab": {
          "base_uri": "https://localhost:8080/",
          "height": 472
        },
        "id": "OAZ3VkYnXTrB",
        "outputId": "2e8f3efa-d914-428d-9dc6-652560958180"
      },
      "execution_count": null,
      "outputs": [
        {
          "output_type": "display_data",
          "data": {
            "text/plain": [
              "<Figure size 640x480 with 1 Axes>"
            ],
            "image/png": "[encoded data removed]"
          },
          "metadata": {}
        }
      ]
    },
    {
      "cell_type": "code",
      "source": [
        "train_reconstruction_error = np.mean(np.square(X_train_windows - autoencoder.predict(X_train_windows)), axis=1)\n",
        "test_reconstruction_error = np.mean(np.square(X_test_windows - autoencoder.predict(X_test_windows)), axis=1)\n",
        "\n",
        "# Determine the anomaly threshold (e.g., 95th percentile of train errors)\n",
        "threshold = np.percentile(train_reconstruction_error, 95)\n",
        "\n",
        "print(f\"Threshold for anomaly detection: {threshold}\")\n"
      ],
      "metadata": {
        "colab": {
          "base_uri": "https://localhost:8080/"
        },
        "id": "4dJL8KpSXTnZ",
        "outputId": "b263b033-8511-42b8-e542-cd2ddf9969e3"
      },
      "execution_count": null,
      "outputs": [
        {
          "output_type": "stream",
          "name": "stdout",
          "text": [
            "454556/454556 [==============================] - 552s 1ms/step\n",
            "117187/117187 [==============================] - 139s 1ms/step\n",
            "Threshold for anomaly detection: 3.5543833209440736\n"
          ]
        }
      ]
    },
    {
      "cell_type": "code",
      "source": [
        "anomalous_indices_train = [10, 20, 30]  # Replace with actual indices for training data\n",
        "anomalous_indices_test = [5, 15, 25]   # Replace with actual indices for test data\n",
        "\n",
        "y_true_train = np.zeros(len(train_reconstruction_error))\n",
        "y_true_test = np.zeros(len(test_reconstruction_error))\n",
        "\n",
        "y_true_train[anomalous_indices_train] = 1\n",
        "y_true_test[anomalous_indices_test] = 1\n"
      ],
      "metadata": {
        "id": "e4hZTsJ8wrmx"
      },
      "execution_count": null,
      "outputs": []
    },
    {
      "cell_type": "code",
      "source": [
        "# Assume top 5% of the data are anomalies\n",
        "anomaly_fraction = 0.05\n",
        "\n",
        "# Compute thresholds\n",
        "threshold_train = np.percentile(train_reconstruction_error, 100 * (1 - anomaly_fraction))\n",
        "threshold_test = np.percentile(test_reconstruction_error, 100 * (1 - anomaly_fraction))\n",
        "\n",
        "# Generate ground truth labels\n",
        "y_true_train = (train_reconstruction_error > threshold_train).astype(int)\n",
        "y_true_test = (test_reconstruction_error > threshold_test).astype(int)\n"
      ],
      "metadata": {
        "id": "Z1y9DW_w1jd0"
      },
      "execution_count": null,
      "outputs": []
    },
    {
      "cell_type": "code",
      "source": [
        "from sklearn.metrics import classification_report, confusion_matrix\n",
        "\n",
        "print(\"Confusion Matrix (Training):\")\n",
        "print(confusion_matrix(y_true_train, y_pred_train))\n",
        "\n",
        "print(\"\\nClassification Report (Training):\")\n",
        "print(classification_report(y_true_train, y_pred_train, target_names=[\"Normal\", \"Anomaly\"]))\n",
        "\n",
        "print(\"\\nConfusion Matrix (Testing):\")\n",
        "print(confusion_matrix(y_true_test, y_pred_test))\n",
        "\n",
        "print(\"\\nClassification Report (Testing):\")\n",
        "print(classification_report(y_true_test, y_pred_test, target_names=[\"Normal\", \"Anomaly\"]))\n"
      ],
      "metadata": {
        "colab": {
          "base_uri": "https://localhost:8080/"
        },
        "id": "Cf_deOaY1mYV",
        "outputId": "4daf8cbe-4367-4af7-90da-818facea64e7"
      },
      "execution_count": null,
      "outputs": [
        {
          "output_type": "stream",
          "name": "stdout",
          "text": [
            "Confusion Matrix (Training):\n",
            "[[13818492        0]\n",
            " [       0   727289]]\n",
            "\n",
            "Classification Report (Training):\n",
            "              precision    recall  f1-score   support\n",
            "\n",
            "      Normal       1.00      1.00      1.00  13818492\n",
            "     Anomaly       1.00      1.00      1.00    727289\n",
            "\n",
            "    accuracy                           1.00  14545781\n",
            "   macro avg       1.00      1.00      1.00  14545781\n",
            "weighted avg       1.00      1.00      1.00  14545781\n",
            "\n",
            "\n",
            "Confusion Matrix (Testing):\n",
            "[[3562482       0]\n",
            " [ 177634    9865]]\n",
            "\n",
            "Classification Report (Testing):\n",
            "              precision    recall  f1-score   support\n",
            "\n",
            "      Normal       0.95      1.00      0.98   3562482\n",
            "     Anomaly       1.00      0.05      0.10    187499\n",
            "\n",
            "    accuracy                           0.95   3749981\n",
            "   macro avg       0.98      0.53      0.54   3749981\n",
            "weighted avg       0.95      0.95      0.93   3749981\n",
            "\n"
          ]
        }
      ]
    },
    {
      "cell_type": "code",
      "source": [
        "import numpy as np\n",
        "from sklearn.metrics import classification_report, confusion_matrix\n",
        "\n",
        "# Define thresholds to test\n",
        "thresholds = np.linspace(train_reconstruction_error.min(), train_reconstruction_error.max(), num=10)\n",
        "\n",
        "# Store metrics for each threshold\n",
        "results = []\n",
        "\n",
        "for thresh in thresholds:\n",
        "    # Label anomalies based on the current threshold\n",
        "    y_pred_train = (train_reconstruction_error > thresh).astype(int)\n",
        "    y_pred_test = (test_reconstruction_error > thresh).astype(int)\n",
        "\n",
        "    # Compute confusion matrix and classification report for test data\n",
        "    conf_matrix_test = confusion_matrix(y_true_test, y_pred_test)\n",
        "    report_test = classification_report(y_true_test, y_pred_test, output_dict=True, zero_division=0)\n",
        "\n",
        "    results.append({\n",
        "        \"Threshold\": thresh,\n",
        "        \"Confusion Matrix\": conf_matrix_test,\n",
        "        \"Precision\": report_test[\"1\"][\"precision\"],\n",
        "        \"Recall\": report_test[\"1\"][\"recall\"],\n",
        "        \"F1-Score\": report_test[\"1\"][\"f1-score\"]\n",
        "    })\n",
        "\n",
        "# Print the results\n",
        "for res in results:\n",
        "    print(f\"Threshold: {res['Threshold']}\")\n",
        "    print(f\"Confusion Matrix:\\n{res['Confusion Matrix']}\")\n",
        "    print(f\"Precision: {res['Precision']:.2f}, Recall: {res['Recall']:.2f}, F1-Score: {res['F1-Score']:.2f}\")\n",
        "    print(\"-\" * 50)\n",
        "\n",
        "# Optionally, plot the metrics for visualization\n",
        "import matplotlib.pyplot as plt\n",
        "\n",
        "thresholds = [res[\"Threshold\"] for res in results]\n",
        "precision = [res[\"Precision\"] for res in results]\n",
        "recall = [res[\"Recall\"] for res in results]\n",
        "f1_score = [res[\"F1-Score\"] for res in results]\n",
        "\n",
        "plt.plot(thresholds, precision, label=\"Precision\")\n",
        "plt.plot(thresholds, recall, label=\"Recall\")\n",
        "plt.plot(thresholds, f1_score, label=\"F1-Score\")\n",
        "plt.xlabel(\"Threshold\")\n",
        "plt.ylabel(\"Metric Value\")\n",
        "plt.title(\"Precision, Recall, and F1-Score vs. Threshold\")\n",
        "plt.legend()\n",
        "plt.show()\n",
        "\n"
      ],
      "metadata": {
        "colab": {
          "base_uri": "https://localhost:8080/",
          "height": 1000
        },
        "id": "ielDqv6KwrdZ",
        "outputId": "20826553-5c52-46ee-902b-d3577816d3f1"
      },
      "execution_count": null,
      "outputs": [
        {
          "output_type": "stream",
          "name": "stdout",
          "text": [
            "Threshold: 0.002580659929406379\n",
            "Confusion Matrix:\n",
            "[[      0 3562482]\n",
            " [      0  187499]]\n",
            "Precision: 0.05, Recall: 1.00, F1-Score: 0.10\n",
            "--------------------------------------------------\n",
            "Threshold: 5.363218934987625\n",
            "Confusion Matrix:\n",
            "[[3562482       0]\n",
            " [ 181347    6152]]\n",
            "Precision: 1.00, Recall: 0.03, F1-Score: 0.06\n",
            "--------------------------------------------------\n",
            "Threshold: 10.723857210045844\n",
            "Confusion Matrix:\n",
            "[[3562482       0]\n",
            " [ 186527     972]]\n",
            "Precision: 1.00, Recall: 0.01, F1-Score: 0.01\n",
            "--------------------------------------------------\n",
            "Threshold: 16.084495485104064\n",
            "Confusion Matrix:\n",
            "[[3562482       0]\n",
            " [ 187044     455]]\n",
            "Precision: 1.00, Recall: 0.00, F1-Score: 0.00\n",
            "--------------------------------------------------\n",
            "Threshold: 21.445133760162282\n",
            "Confusion Matrix:\n",
            "[[3562482       0]\n",
            " [ 187260     239]]\n",
            "Precision: 1.00, Recall: 0.00, F1-Score: 0.00\n",
            "--------------------------------------------------\n",
            "Threshold: 26.8057720352205\n",
            "Confusion Matrix:\n",
            "[[3562482       0]\n",
            " [ 187391     108]]\n",
            "Precision: 1.00, Recall: 0.00, F1-Score: 0.00\n",
            "--------------------------------------------------\n",
            "Threshold: 32.16641031027872\n",
            "Confusion Matrix:\n",
            "[[3562482       0]\n",
            " [ 187443      56]]\n",
            "Precision: 1.00, Recall: 0.00, F1-Score: 0.00\n",
            "--------------------------------------------------\n",
            "Threshold: 37.527048585336935\n",
            "Confusion Matrix:\n",
            "[[3562482       0]\n",
            " [ 187467      32]]\n",
            "Precision: 1.00, Recall: 0.00, F1-Score: 0.00\n",
            "--------------------------------------------------\n",
            "Threshold: 42.887686860395156\n",
            "Confusion Matrix:\n",
            "[[3562482       0]\n",
            " [ 187477      22]]\n",
            "Precision: 1.00, Recall: 0.00, F1-Score: 0.00\n",
            "--------------------------------------------------\n",
            "Threshold: 48.24832513545338\n",
            "Confusion Matrix:\n",
            "[[3562482       0]\n",
            " [ 187491       8]]\n",
            "Precision: 1.00, Recall: 0.00, F1-Score: 0.00\n",
            "--------------------------------------------------\n"
          ]
        },
        {
          "output_type": "display_data",
          "data": {
            "text/plain": [
              "<Figure size 640x480 with 1 Axes>"
            ],
            "image/png": "[encoded data removed]"
          },
          "metadata": {}
        }
      ]
    },
    {
      "cell_type": "markdown",
      "source": [
        "At lower thresholds, the model detects almost all anomalies but generates many false positives.\n",
        "At higher thresholds, anomalies are rarely detected, leading to a significant drop in recall.\n"
      ],
      "metadata": {
        "id": "pjeFAPJ54lgp"
      }
    }
  ],
  "metadata": {
    "colab": {
      "machine_shape": "hm",
      "provenance": []
    },
    "kernelspec": {
      "display_name": "Python 3",
      "name": "python3"
    },
    "language_info": {
      "name": "python"
    }
  },
  "nbformat": 4,
  "nbformat_minor": 0
}